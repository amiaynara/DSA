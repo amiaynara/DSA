{
 "cells": [
  {
   "cell_type": "code",
   "execution_count": null,
   "metadata": {},
   "outputs": [],
   "source": [
    "# doubly  linked list"
   ]
  },
  {
   "cell_type": "code",
   "execution_count": 37,
   "metadata": {},
   "outputs": [],
   "source": [
    "# create a Node class\n",
    "class Node():\n",
    "    \n",
    "    def __init__(self,data,prev=None, nxt =None):\n",
    "        #print('A node created')\n",
    "        self.data=data\n",
    "        self.prev=prev\n",
    "        self.next=nxt\n",
    "    \n",
    "    def get_value(self):\n",
    "        return self.data\n",
    "    def get_next(self):\n",
    "        return self.next\n",
    "    def get_prev(self):\n",
    "        return self.prev\n",
    "    def set_prev(self, node):\n",
    "        self.prev=node\n",
    "    def set_next(self,node):\n",
    "        self.next=node\n"
   ]
  },
  {
   "cell_type": "code",
   "execution_count": 49,
   "metadata": {},
   "outputs": [],
   "source": [
    "class double_ll():\n",
    "    head=None\n",
    "    tail=None\n",
    "    n=0\n",
    "    def __init__(self):\n",
    "        print('Doubly-linked list evoked')\n",
    "        \n",
    "    def is_empty(self):\n",
    "        if self.head==None:\n",
    "            return True\n",
    "        else:\n",
    "            return False\n",
    "    \n",
    "    def prepend(self, data):\n",
    "        new_node=Node(data)\n",
    "        # a new element will prepended uncondintionally # assuming appropriate value is sent\n",
    "        self.n+=1\n",
    "        if self.is_empty():\n",
    "            self.tail=new_node\n",
    "            self.head=new_node\n",
    "            print(f'{data} prepended successfully')\n",
    "            return\n",
    "        new_node.set_next(self.head) # next of new_node points to older node\n",
    "        self.head.set_prev(new_node) # prev of older node points to new_node\n",
    "        new_node.set_prev(None) # not needed as by default Node() object points None type\n",
    "        self.head=new_node\n",
    "        print(f'{data} prepended successfully')\n",
    "\n",
    "    def show(self):\n",
    "        traveller=self.head\n",
    "        while traveller != None:\n",
    "            print(traveller.get_value())\n",
    "            traveller=traveller.next\n",
    "    def append(self, data):\n",
    "\n",
    "        if self.is_empty():\n",
    "            self.prepend(data)\n",
    "            return \n",
    "\n",
    "        new_node=Node(data) # you could technically send the prev and next here\n",
    "                            # I am gonna keep it clean \n",
    "        self.n+=1\n",
    "        new_node.set_prev(self.tail)\n",
    "        new_node.set_next(None)\n",
    "        self.tail.next=new_node\n",
    "        self.tail=new_node\n",
    "        print(f'{data} appended succesfully.')\n",
    "    \n",
    "    def _traveller(self, index):\n",
    "        nomad=self.head\n",
    "        for i in range(index-1):\n",
    "            print(nomad.get_value())\n",
    "            nomad=nomad.next\n",
    "        return nomad, nomad.next\n",
    "            \n",
    "    \n",
    "    def insert(self, index,data):\n",
    "        if self.is_empty():\n",
    "            print(f'Inserting at {index} is equivalent to prepending')\n",
    "            self.append(data)\n",
    "            return\n",
    "        elif(index==self.n):\n",
    "            print(f'Inserting at {index} is equivalent to appending')\n",
    "            self.prepend(data)\n",
    "            return \n",
    "        else:\n",
    "            # inserting at index=2 => insert as third from left\n",
    "            new_node=Node(data)\n",
    "            prev_ele, next_ele = self._traveller(index)\n",
    "            new_node.set_prev(prev_ele)\n",
    "            new_node.set_next(next_ele)\n",
    "            prev_ele.set_next(new_node)\n",
    "            next_ele.set_prev(new_node)\n",
    "            self.n+=1\n",
    "            print(f'{data} successfully inserted at {index}')\n",
    "            return\n",
    "    def search(self, data):\n",
    "        # this will report only the first instance of 'data'\n",
    "        # An idea of searching from both the ends can also be considered\n",
    "        # Here i'mma stick with the classic\n",
    "        traveller=self.head\n",
    "        index=0\n",
    "        while traveller!=None:\n",
    "            if traveller.get_value()== data: \n",
    "                print(f'{data} found at {index} in the doubly linked list')\n",
    "                return\n",
    "            index+=1\n",
    "            traveller=traveller.next\n",
    "        if traveller==None:\n",
    "            print(f'{data} is not present in the doubly-linked-list')\n",
    "    \n",
    "    def remove(self, index):\n",
    "        # remove can be implement using 'data' or 'index' or both. \n",
    "        # here I am using index, since indices are unique\n",
    "        if self.is_empty():\n",
    "            print('Cannot remove from an Empty Doubly-linked List')\n",
    "        elif index>=self.n :\n",
    "            print(f'{index} exceeds the available index set')\n",
    "        else:\n",
    "            prev_ele, next_ele = self._traveller(index)\n",
    "            prev_ele.set_next(next_ele.get_next())\n",
    "            next_ele.next.set_prev(prev_ele)\n",
    "            print('remove() is called')\n",
    "    \n",
    "    def reverse(self):\n",
    "         "
   ]
  },
  {
   "cell_type": "code",
   "execution_count": 50,
   "metadata": {},
   "outputs": [
    {
     "name": "stdout",
     "output_type": "stream",
     "text": [
      "Doubly-linked list evoked\n"
     ]
    }
   ],
   "source": [
    "dll=double_ll()"
   ]
  },
  {
   "cell_type": "code",
   "execution_count": 51,
   "metadata": {},
   "outputs": [
    {
     "name": "stdout",
     "output_type": "stream",
     "text": [
      "68 prepended successfully\n",
      "12 prepended successfully\n",
      "34 prepended successfully\n",
      "33 prepended successfully\n",
      "98 prepended successfully\n",
      "23 prepended successfully\n",
      "99 prepended successfully\n"
     ]
    }
   ],
   "source": [
    "dll.append(68)\n",
    "dll.prepend(12)\n",
    "dll.prepend(34)\n",
    "dll.prepend(33)\n",
    "dll.prepend(98)\n",
    "dll.prepend(23)\n",
    "dll.prepend(99)"
   ]
  },
  {
   "cell_type": "code",
   "execution_count": 52,
   "metadata": {},
   "outputs": [
    {
     "name": "stdout",
     "output_type": "stream",
     "text": [
      "99\n",
      "23\n",
      "98\n",
      "33\n",
      "34\n",
      "12\n",
      "68\n"
     ]
    }
   ],
   "source": [
    "dll.show()"
   ]
  },
  {
   "cell_type": "code",
   "execution_count": 54,
   "metadata": {},
   "outputs": [
    {
     "name": "stdout",
     "output_type": "stream",
     "text": [
      "99\n",
      "66 successfully inserted at 2\n",
      "99\n",
      "23\n",
      "66\n",
      "66\n",
      "98\n",
      "33\n",
      "34\n",
      "12\n",
      "68\n"
     ]
    }
   ],
   "source": [
    "dll.insert(2,66)\n",
    "dll.show()"
   ]
  },
  {
   "cell_type": "code",
   "execution_count": 56,
   "metadata": {},
   "outputs": [
    {
     "name": "stdout",
     "output_type": "stream",
     "text": [
      "989 appended succesfully.\n",
      "99\n",
      "23\n",
      "66\n",
      "66\n",
      "98\n",
      "33\n",
      "34\n",
      "12\n",
      "68\n",
      "989\n",
      "989\n"
     ]
    }
   ],
   "source": [
    "dll.append(989)\n",
    "dll.show()"
   ]
  },
  {
   "cell_type": "code",
   "execution_count": 58,
   "metadata": {},
   "outputs": [
    {
     "name": "stdout",
     "output_type": "stream",
     "text": [
      "99\n",
      "23\n",
      "remove() is called\n",
      "99\n",
      "23\n",
      "66\n",
      "33\n",
      "34\n",
      "12\n",
      "68\n",
      "989\n",
      "989\n"
     ]
    }
   ],
   "source": [
    "dll.remove(3)\n",
    "dll.show()"
   ]
  },
  {
   "cell_type": "code",
   "execution_count": 59,
   "metadata": {},
   "outputs": [],
   "source": [
    "# above is pretty comprehensive doubly-linked list \n",
    "# Note: Sorting and reversing and other operation are yet to be performed. "
   ]
  },
  {
   "cell_type": "code",
   "execution_count": 60,
   "metadata": {},
   "outputs": [],
   "source": [
    "# reversing a linked list\n",
    "# Naive : Could be to start from head node and the travel to the last index and add\n",
    "# use set to swap with the tail value in the first iteration\n",
    "# second Iteration : go to the (n-2)th index and swap with 1st index\n",
    "# keep doing this untill these two cross : stop just before the cross. \n",
    "# you could use even/odd length to your advantage. \n",
    "# O(nlogn) in time and O(1) in space. "
   ]
  },
  {
   "cell_type": "code",
   "execution_count": 61,
   "metadata": {},
   "outputs": [],
   "source": [
    "# Using another linked list to reverse is also an idea\n",
    "# O(n) in space as well as in time. \n",
    "# but this would require another linked list to be made where we can copy\n",
    "# However, I have to implement it as another method\n",
    "# For doubly-linked list: We can just swap Tail and Head int(N/2) times. \n",
    "# what about Singly-Linked-List"
   ]
  },
  {
   "cell_type": "code",
   "execution_count": null,
   "metadata": {},
   "outputs": [],
   "source": []
  }
 ],
 "metadata": {
  "kernelspec": {
   "display_name": "Python 3",
   "language": "python",
   "name": "python3"
  },
  "language_info": {
   "codemirror_mode": {
    "name": "ipython",
    "version": 3
   },
   "file_extension": ".py",
   "mimetype": "text/x-python",
   "name": "python",
   "nbconvert_exporter": "python",
   "pygments_lexer": "ipython3",
   "version": "3.6.10"
  }
 },
 "nbformat": 4,
 "nbformat_minor": 4
}
