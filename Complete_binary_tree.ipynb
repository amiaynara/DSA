{
 "cells": [
  {
   "cell_type": "code",
   "execution_count": 1,
   "metadata": {},
   "outputs": [],
   "source": [
    "# TREES #"
   ]
  },
  {
   "cell_type": "code",
   "execution_count": 3,
   "metadata": {},
   "outputs": [],
   "source": [
    "# H of a Node : The maximum path length from a leaf\n",
    "# D of a Node : The path length from the root\n",
    "# H of a tree : The Height of the root node. \n",
    "# Leaf Node : has not child \n",
    "# We also have ascendent and descendents \n",
    "# Binary tree : can have atmost 2 children\n",
    "# Perfect Binary Tree : All levels are full \n",
    "# Complete Binary Tree : All levels are full except may be the last\n",
    "#         and left sides must be fulfilled before the right. \n",
    "# An unbalanced Binary tree => Linked list => costly\n",
    "# AVL tree is a way of balacing the tree"
   ]
  },
  {
   "cell_type": "code",
   "execution_count": 4,
   "metadata": {},
   "outputs": [],
   "source": [
    "# Another type of tree is Binary search Tree. \n",
    "# The Parent Node is always greater than the child node(may be equal)\n",
    "# The left child is always less than right child.\n",
    "# "
   ]
  },
  {
   "cell_type": "code",
   "execution_count": 5,
   "metadata": {},
   "outputs": [],
   "source": [
    "# Binary Tree"
   ]
  },
  {
   "cell_type": "code",
   "execution_count": 38,
   "metadata": {},
   "outputs": [],
   "source": [
    "class Node():\n",
    "    \n",
    "    def __init__(self, data, left=None,right=None):\n",
    "        self.data=data\n",
    "        self.left=left\n",
    "        self.right=right\n",
    "    def get_data(self):\n",
    "        return self.data\n",
    "    def get_next(self):\n",
    "        return self.next\n",
    "    def set_data(self,data):\n",
    "        self.data=data\n",
    "    def set_next(self,node):\n",
    "        self.next=node"
   ]
  },
  {
   "cell_type": "code",
   "execution_count": 39,
   "metadata": {},
   "outputs": [],
   "source": [
    "class Q():\n",
    "    rear=None\n",
    "    front=None\n",
    "    size=0\n",
    "    def __init__(self):\n",
    "        print('The Q has been spawned')\n",
    "    def is_empty(self):\n",
    "        if self.rear==None: # or front== None\n",
    "            return True\n",
    "        return False\n",
    "    def enqueue(self,data):\n",
    "        new_node=Node(data)\n",
    "        self.size+=1\n",
    "        if self.is_empty():\n",
    "            self.front=new_node\n",
    "            self.rear=new_node\n",
    "            return \n",
    "        # make the second newest node point the  newest node\n",
    "        self.rear.set_next(new_node)\n",
    "        self.rear=new_node\n",
    "    def dequeue(self):\n",
    "        # has to be done from the front of the queue only\n",
    "        if self.is_empty():\n",
    "            print('Cannot dequeue from an empty Q')\n",
    "            return\n",
    "        data=self.front.get_data()\n",
    "\n",
    "        if self.rear == self.front :\n",
    "            # the front and the rear should now be made point to None\n",
    "            # 'NoneType' object has no attribute 'get_data'\n",
    "            # In C++ or Java, we might not have to do this\n",
    "            # this, I think, is because of the Memory management of Python and how None object works in python\n",
    "            self.rear=None\n",
    "            self.front=None\n",
    "            return data\n",
    "        self.size-=1\n",
    "        data=self.front.get_data()\n",
    "        self.front=self.front.get_next() # make 'front' point to the next element\n",
    "        # front-------> 1st --> 2nd --> 3r --> 4th --> 5th\n",
    "        # 1st front-------> 2nd --> 3rd --> 4th --> 5th\n",
    "        # It is quite revealing to realise that (1st) cannot Never-Ever be reached again, explains copying.\n",
    "        return data\n",
    "    def peek(self):\n",
    "        if self.is_empty():\n",
    "            print('You cannot peek into an Empty Q')\n",
    "            return\n",
    "        return self.front.get_data()\n",
    "    # you can also try and implement \n",
    "    # def peek_rear(self):"
   ]
  },
  {
   "cell_type": "code",
   "execution_count": 159,
   "metadata": {},
   "outputs": [],
   "source": [
    "import math\n",
    "class bt():\n",
    "\n",
    "    def __init__(self):\n",
    "        print('Binary Tree created')\n",
    "        self.root=None\n",
    "        self.q=Q()\n",
    "        self.size=0\n",
    "        self.level=0\n",
    "    def add(self, data):\n",
    "        new_node=Node(data)\n",
    "        self.q.enqueue(new_node)\n",
    "        self.size+=1\n",
    "        if self.root ==None:\n",
    "            self.root=new_node\n",
    "            return \n",
    "        else:\n",
    "            potential_parent=self.q.peek()\n",
    "            #if potential_parent.left!=None and potential_parent.right!=None :\n",
    "                #q.dequeue()\n",
    "                #potential_parent=q.peek()\n",
    "            if potential_parent.left==None:\n",
    "                potential_parent.left=new_node\n",
    "                print(potential_parent.left.data,' added to left of ', potential_parent.data)\n",
    "            elif potential_parent.right==None : \n",
    "                potential_parent.right=new_node\n",
    "                self.q.dequeue()\n",
    "                if (math.log(self.size+1,2)-1)==int((math.log(self.size+1,2)-1)):\n",
    "                    print('The Binary Tree just became Perfect')\n",
    "                    # Note that, values of Levels as continuous on Integers....\n",
    "                    # if that makes sense\n",
    "                    \n",
    "                    \n",
    "                # we could place the both filled condition here\n",
    "                # also=> dequeue after the right link is full\n",
    "                # makes the code consize\n",
    "                # this will also help get whether it is perfect\n",
    "                # binary or not. \n",
    "                # Perfect => length of queue is zero\n",
    "    def preorder(self):\n",
    "        curr=self.root\n",
    "        self.preorder_traversal(curr)\n",
    "    def preorder_traversal(self, curr):\n",
    "        if curr==None:\n",
    "            return\n",
    "        self.preorder_traversal(curr.left)\n",
    "        print(curr.data)\n",
    "        self.preorder_traversal(curr.right)"
   ]
  },
  {
   "cell_type": "code",
   "execution_count": 160,
   "metadata": {},
   "outputs": [
    {
     "name": "stdout",
     "output_type": "stream",
     "text": [
      "Binary Tree created\n",
      "The Q has been spawned\n"
     ]
    }
   ],
   "source": [
    "tree=bt()"
   ]
  },
  {
   "cell_type": "code",
   "execution_count": 161,
   "metadata": {},
   "outputs": [],
   "source": [
    "tree.add(33)"
   ]
  },
  {
   "cell_type": "code",
   "execution_count": 162,
   "metadata": {},
   "outputs": [
    {
     "name": "stdout",
     "output_type": "stream",
     "text": [
      "34  added to left of  33\n",
      "The Binary Tree just became Perfect\n",
      "93  added to left of  34\n",
      "87  added to left of  99\n",
      "The Binary Tree just became Perfect\n"
     ]
    }
   ],
   "source": [
    "tree.add(34)\n",
    "tree.add(99)\n",
    "tree.add(93)\n",
    "tree.add(83)\n",
    "tree.add(87)\n",
    "tree.add(88)"
   ]
  },
  {
   "cell_type": "code",
   "execution_count": 163,
   "metadata": {},
   "outputs": [
    {
     "name": "stdout",
     "output_type": "stream",
     "text": [
      "93\n",
      "34\n",
      "83\n",
      "33\n",
      "87\n",
      "99\n",
      "88\n"
     ]
    }
   ],
   "source": [
    "tree.preorder()"
   ]
  },
  {
   "cell_type": "code",
   "execution_count": 164,
   "metadata": {},
   "outputs": [],
   "source": [
    "# above I have implemented a complete binary tree\n",
    "# this will take the input each time and add that to the tree\n",
    "# This is done by maintaining a Queue inside the class. \n",
    "# To-be-added element is first enqueued, node is made and the\n",
    "# based on the state of the queue, I add the node to a relevant\n",
    "# parent"
   ]
  },
  {
   "cell_type": "code",
   "execution_count": 165,
   "metadata": {},
   "outputs": [],
   "source": [
    "# now given a level-order Traversal [as an array] or as a linked list\n",
    "# make a tree. \n",
    "# In case of tree it becomes a bit more simpler as we do not need \n",
    "# any internal queue to keep track of the nodes\n",
    "# here the child of a node at index 'i' is given by 2*i+1 and\n",
    "# 2*i + 2"
   ]
  },
  {
   "cell_type": "code",
   "execution_count": 166,
   "metadata": {
    "scrolled": true
   },
   "outputs": [],
   "source": [
    "# Incase of the linked list.\n",
    "# Just do the single addition multiple times using a loop"
   ]
  },
  {
   "cell_type": "code",
   "execution_count": 173,
   "metadata": {},
   "outputs": [
    {
     "name": "stdout",
     "output_type": "stream",
     "text": [
      "Binary Tree created\n",
      "The Q has been spawned\n"
     ]
    },
    {
     "data": {
      "text/plain": [
       "0"
      ]
     },
     "execution_count": 173,
     "metadata": {},
     "output_type": "execute_result"
    }
   ],
   "source": [
    "binary_tree=bt()\n",
    "binary_tree.q.size"
   ]
  },
  {
   "cell_type": "code",
   "execution_count": 174,
   "metadata": {},
   "outputs": [],
   "source": [
    "# Given Level-Order Traversal [Breadth first traversal]\n",
    "traversal=[1,2,3,4,5,6,7,8]"
   ]
  },
  {
   "cell_type": "code",
   "execution_count": 175,
   "metadata": {},
   "outputs": [
    {
     "name": "stdout",
     "output_type": "stream",
     "text": [
      "2  added to left of  1\n",
      "The Binary Tree just became Perfect\n",
      "4  added to left of  2\n",
      "6  added to left of  3\n",
      "The Binary Tree just became Perfect\n",
      "8  added to left of  4\n"
     ]
    }
   ],
   "source": [
    "for i in traversal:\n",
    "    binary_tree.add(i)"
   ]
  },
  {
   "cell_type": "code",
   "execution_count": 176,
   "metadata": {},
   "outputs": [
    {
     "name": "stdout",
     "output_type": "stream",
     "text": [
      "8\n",
      "4\n",
      "2\n",
      "5\n",
      "1\n",
      "6\n",
      "3\n",
      "7\n"
     ]
    }
   ],
   "source": [
    "binary_tree.preorder()"
   ]
  },
  {
   "cell_type": "code",
   "execution_count": 171,
   "metadata": {},
   "outputs": [
    {
     "data": {
      "text/plain": [
       "2"
      ]
     },
     "execution_count": 171,
     "metadata": {},
     "output_type": "execute_result"
    }
   ],
   "source": [
    "binary_tree.q.size"
   ]
  },
  {
   "cell_type": "code",
   "execution_count": 177,
   "metadata": {},
   "outputs": [],
   "source": [
    "# note that the 'q' in binary tree class has to be declared in\n",
    "# the __init__ section of the binary tree class. "
   ]
  },
  {
   "cell_type": "code",
   "execution_count": null,
   "metadata": {},
   "outputs": [],
   "source": []
  }
 ],
 "metadata": {
  "kernelspec": {
   "display_name": "Python 3",
   "language": "python",
   "name": "python3"
  },
  "language_info": {
   "codemirror_mode": {
    "name": "ipython",
    "version": 3
   },
   "file_extension": ".py",
   "mimetype": "text/x-python",
   "name": "python",
   "nbconvert_exporter": "python",
   "pygments_lexer": "ipython3",
   "version": "3.6.10"
  }
 },
 "nbformat": 4,
 "nbformat_minor": 4
}
