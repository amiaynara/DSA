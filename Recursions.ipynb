{
 "cells": [
  {
   "cell_type": "code",
   "execution_count": 2,
   "metadata": {},
   "outputs": [],
   "source": [
    "# Call stack limit finder\n",
    "# or pattern printer\n",
    "def recur(x):\n",
    "    x+=1\n",
    "    #print(x)\n",
    "    if x==299:\n",
    "        return x\n",
    "    recur(x)    \n",
    "    #print(x)\n",
    "x=0\n",
    "recur(0)\n",
    "\n",
    "# this will produce no output, in case we expected the out put to be the terminating 'x' value\n",
    "# this is because this returned value (here: 299) was returned only once, i.e., by the 299th call, and rest \n",
    "# all returned nothing. \n",
    "# We NEED to Bubble it up"
   ]
  },
  {
   "cell_type": "code",
   "execution_count": 4,
   "metadata": {},
   "outputs": [
    {
     "data": {
      "text/plain": [
       "299"
      ]
     },
     "execution_count": 4,
     "metadata": {},
     "output_type": "execute_result"
    }
   ],
   "source": [
    "# Bubbling up the values by adding just 'return'\n",
    "def recur(x):\n",
    "    x+=1\n",
    "    #print(x)\n",
    "    if x==299:\n",
    "        return x\n",
    "    return recur(x)    \n",
    "    #print(x)\n",
    "x=0\n",
    "recur(0)\n",
    "# returns 299"
   ]
  },
  {
   "cell_type": "code",
   "execution_count": 5,
   "metadata": {},
   "outputs": [],
   "source": [
    "# Factorial\n",
    "def fact(n):\n",
    "    if n==1 or n==0 :\n",
    "        return 1\n",
    "    return fact(n-1)*n\n",
    "# O(n)"
   ]
  },
  {
   "cell_type": "code",
   "execution_count": 10,
   "metadata": {},
   "outputs": [
    {
     "data": {
      "text/plain": [
       "120"
      ]
     },
     "execution_count": 10,
     "metadata": {},
     "output_type": "execute_result"
    }
   ],
   "source": [
    "fact(5)\n",
    "# remember you cannot exceed the recursion limit for Call Stack"
   ]
  },
  {
   "cell_type": "code",
   "execution_count": 11,
   "metadata": {},
   "outputs": [],
   "source": [
    "# Recursion is incomplete without Fibonacci\n",
    "def fib(n):\n",
    "    if n==0 :\n",
    "        return 0\n",
    "    if n == 1 :\n",
    "        return 1\n",
    "    return fib(n-1) + fib(n-2)\n",
    "\n",
    "# O(2^n)"
   ]
  },
  {
   "cell_type": "code",
   "execution_count": 19,
   "metadata": {},
   "outputs": [
    {
     "data": {
      "text/plain": [
       "13"
      ]
     },
     "execution_count": 19,
     "metadata": {},
     "output_type": "execute_result"
    }
   ],
   "source": [
    "fib(7)"
   ]
  },
  {
   "cell_type": "code",
   "execution_count": null,
   "metadata": {},
   "outputs": [],
   "source": []
  }
 ],
 "metadata": {
  "kernelspec": {
   "display_name": "Python 3",
   "language": "python",
   "name": "python3"
  },
  "language_info": {
   "codemirror_mode": {
    "name": "ipython",
    "version": 3
   },
   "file_extension": ".py",
   "mimetype": "text/x-python",
   "name": "python",
   "nbconvert_exporter": "python",
   "pygments_lexer": "ipython3",
   "version": "3.6.10"
  }
 },
 "nbformat": 4,
 "nbformat_minor": 4
}
