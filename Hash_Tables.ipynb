{
 "cells": [
  {
   "cell_type": "code",
   "execution_count": 7,
   "metadata": {},
   "outputs": [],
   "source": [
    "# hash tables using dictionaries : Implementation"
   ]
  },
  {
   "cell_type": "code",
   "execution_count": 32,
   "metadata": {},
   "outputs": [],
   "source": [
    "class Hash_Table():\n",
    "    def __init__(self):\n",
    "        self.data={}\n",
    "        self.size=0\n",
    "    def set_value(self, key, value):\n",
    "        if key not in self.data: # this avoids size increment in case of updation\n",
    "            self.size+=1\n",
    "        self.data[key]=value\n",
    "    def get_value(self, key):\n",
    "        if key in self.data:\n",
    "            return self.data[key]\n",
    "        else:\n",
    "            print(f'{key} not found.')"
   ]
  },
  {
   "cell_type": "code",
   "execution_count": 33,
   "metadata": {},
   "outputs": [],
   "source": [
    "h=Hash_Table()"
   ]
  },
  {
   "cell_type": "code",
   "execution_count": 36,
   "metadata": {},
   "outputs": [],
   "source": [
    "h.set_value('amiay',123)\n",
    "h.set_value('abhay', 123)\n",
    "h.set_value('swati',321)\n",
    "h.set_value('aditi',345)\n"
   ]
  },
  {
   "cell_type": "code",
   "execution_count": 37,
   "metadata": {},
   "outputs": [
    {
     "name": "stdout",
     "output_type": "stream",
     "text": [
      "123\n",
      "aditya not found.\n",
      "None\n",
      "4\n"
     ]
    }
   ],
   "source": [
    "print(h.get_value('amiay'))\n",
    "print(h.get_value('aditya'))\n",
    "print(h.size)"
   ]
  },
  {
   "cell_type": "code",
   "execution_count": 41,
   "metadata": {},
   "outputs": [],
   "source": [
    "# Hash table using lists\n",
    "# this is more critical: because lists have already been implemented previously \n",
    "# using ctypes library\n",
    "class hash_table():\n",
    "    def __init__(self,size):\n",
    "        self.size=size\n",
    "        self.data=[0]*size # is the upper limit on the hash value\n",
    "    def set_value(self,key, value): # may  be I will need to hash the 'key' to find \n",
    "                                    # the index where it will be stored. \n",
    "        self.data[key]=value\n",
    "    def get_value(self, key):\n",
    "        # may be first we will need to hash the key to get the index\n",
    "        return self.data[key]\n",
    "    def _hash(self, key):\n",
    "        # creates a hash value using the key and return the value % self.size\n",
    "        # note that you will have to do the modulo every time. \n",
    "        # remember the 'Code Chef Trump CARD GAME'\n",
    "        hsh=0\n",
    "        # in case of collision [ and avoid overwriting the value of an existing value]\n",
    "        # so we will add to the value array. key:[va1, va2]\n",
    "        return hsh "
   ]
  },
  {
   "cell_type": "code",
   "execution_count": 42,
   "metadata": {},
   "outputs": [],
   "source": [
    "# first recurring element  in an array\n",
    "def recur(A):\n",
    "    H={}\n",
    "    for i in range(len(A)):\n",
    "        if A[i] not in H :\n",
    "            H[A[i]]=1\n",
    "        else:\n",
    "            return A[i] # if A[i] is already present, then this is the first recurring\n",
    "    \n",
    "        "
   ]
  },
  {
   "cell_type": "code",
   "execution_count": 45,
   "metadata": {},
   "outputs": [
    {
     "data": {
      "text/plain": [
       "3"
      ]
     },
     "execution_count": 45,
     "metadata": {},
     "output_type": "execute_result"
    }
   ],
   "source": [
    "T=[1,3,45,3,1,6,7,0,90,1]\n",
    "recur(T)"
   ]
  },
  {
   "cell_type": "code",
   "execution_count": 63,
   "metadata": {},
   "outputs": [],
   "source": [
    "# this does not work because I am trying to implement hash tables all over agian\n",
    "\n",
    "def recurr(A):\n",
    "    H=[-1]*(max(A)+1)\n",
    "    for i in range(len(A)):\n",
    "        for j in range(i+1, len(A)):\n",
    "            \n",
    "            if A[i]== A[j] and H[A[i]]==-1 or H[A[i]]==0 :\n",
    "                H[A[i]]+=1\n",
    "            else:\n",
    "                pass\n",
    "    # now again loop through the values to get minimum of the 'H' array\n",
    "    print(H)\n",
    "    minm=max(H)\n",
    "    for ind, val in enumerate(H):\n",
    "        if val==-1:\n",
    "            pass\n",
    "        elif val < minm :\n",
    "            minm=val\n",
    "    if minm ==-1 :\n",
    "        pass\n",
    "    else:\n",
    "        return A[H.index(minm)]\n",
    "            "
   ]
  },
  {
   "cell_type": "code",
   "execution_count": 64,
   "metadata": {},
   "outputs": [
    {
     "name": "stdout",
     "output_type": "stream",
     "text": [
      "[-1, 1, -1, 1, 1, -1, -1, 1, -1, -1]\n"
     ]
    },
    {
     "data": {
      "text/plain": [
       "3"
      ]
     },
     "execution_count": 64,
     "metadata": {},
     "output_type": "execute_result"
    }
   ],
   "source": [
    "T=[1,3,4,4,3,1,6,7,7,0,9,1]\n",
    "recurr(T)"
   ]
  },
  {
   "cell_type": "code",
   "execution_count": 46,
   "metadata": {},
   "outputs": [],
   "source": [
    "# Node class\n",
    "class Node():\n",
    "    def __init__(self,value, node=None):\n",
    "        self.data=value\n",
    "        self.next=node\n",
    "    \n",
    "    def get_data(self):\n",
    "        return self.data\n",
    "    def set_next(self, node):\n",
    "        self.next=node\n",
    "\n",
    "class linked_list():\n",
    "    head=None\n",
    "    tail=None  # technically I don't see any reason to declare 'tail' \n",
    "    n=0        # this only confirms that ll is empty, that n=0 will also do. Fpr the sake of completeness\n",
    "    def __init__(self):\n",
    "        print(\"Linked List initiated.\")\n",
    "        \n",
    "    def prepend(self, data):\n",
    "        # add at the head of the linked list=> make the last node point to the \n",
    "        # newly created node\n",
    "        # Node new_node= new Node(data)\n",
    "        new_node=Node(data,self.head)\n",
    "        if self.head==self.tail :\n",
    "            # this is going to be the first node\n",
    "            self.head=new_node\n",
    "            self.tail=new_node\n",
    "\n",
    "        else:\n",
    "            # not the first node\n",
    "            self.head=new_node\n",
    "        self.n+=1 # the length increases by one.  \n",
    "        print('Successfully added ', new_node.get_data())\n",
    "\n",
    "    \n",
    "    def pop(self): # remove the element at the head\n",
    "        if self.n==0 :\n",
    "            print('The Linked List empty')\n",
    "            return\n",
    "        else:\n",
    "            # make the head point at where, the first node is pointing at\n",
    "            self.head=self.head.next # for n=1, head will point to \n",
    "            if self.head == None :\n",
    "                self.tail=None # head null implies empty linked list\n",
    "            self.n-=1\n",
    "    \n",
    "    def show(self):\n",
    "        traveller=self.head\n",
    "        while traveller!=None:\n",
    "            print(traveller.get_data())\n",
    "            traveller=traveller.next\n",
    "    def __len__(self):\n",
    "        return self.n\n",
    "    \n",
    "    def find(self, ele):\n",
    "        traveller=self.head\n",
    "        while traveller!=None:\n",
    "            if traveller.data==ele :\n",
    "                print(f'{ele}, found')\n",
    "                return True\n",
    "            traveller=traveller.next\n",
    "    def append(self, data):  # adding at the end of the list\n",
    "        new_node=Node(data)\n",
    "        self.tail.next=new_node\n",
    "        self.tail=new_node\n",
    "        if self.head==None :\n",
    "            # the list is empty\n",
    "            self.head=new_node\n",
    "        self.n+=1\n",
    "        \n",
    "    def remove(self, data):\n",
    "\n",
    "        traveller=self.head\n",
    "        while traveller!=None :\n",
    "            if traveller.get_data()== data :\n",
    "                break\n",
    "            prev=traveller\n",
    "            traveller=traveller.next\n",
    "            \n",
    "        if traveller==None:\n",
    "            return #  if not found then return \n",
    "        # if empty list\n",
    "        if self.head == None :\n",
    "            return\n",
    "        prev.next=traveller.next\n",
    "        self.n-=1\n",
    "    \n",
    "    def insert(self, index, data):\n",
    "        traveller=self.head\n",
    "        if i==0 :\n",
    "            prepend(data)\n",
    "            return\n",
    "        elif i== self.n :\n",
    "            append(data)\n",
    "            return\n",
    "        if i> self.n :\n",
    "            print(f'{index} provided the length : {self.n}')\n",
    "        for i in range(index):\n",
    "            traveller=traveller.next\n",
    "        new_node=Node(data,traveller.next)\n",
    "        traveller.next=new_node\n",
    "\n",
    "    def reverse(self):\n",
    "        if self.n==1 or self.n==0:\n",
    "            return\n",
    "            \n",
    "        first=self.head\n",
    "        second=self.head.next\n",
    "        \n",
    "        first.set_next(None)\n",
    "        self.tail=first\n",
    "        while second != None:\n",
    "            \n",
    "            third=second.next\n",
    "            #print(f'{first.data} {second.data} {third.data}')\n",
    "            second.set_next(first)\n",
    "            first=second\n",
    "            second=third\n",
    "        self.head= first\n",
    "            \n",
    "            \n",
    "    \n",
    "        \n",
    "        "
   ]
  },
  {
   "cell_type": "code",
   "execution_count": 52,
   "metadata": {},
   "outputs": [
    {
     "name": "stdout",
     "output_type": "stream",
     "text": [
      "Linked List initiated.\n"
     ]
    }
   ],
   "source": [
    "ll=linked_list()"
   ]
  },
  {
   "cell_type": "code",
   "execution_count": 53,
   "metadata": {},
   "outputs": [
    {
     "name": "stdout",
     "output_type": "stream",
     "text": [
      "Successfully added  33\n",
      "Successfully added  1\n",
      "Successfully added  101\n",
      "Successfully added  1456\n",
      "1456\n",
      "101\n",
      "1\n",
      "33\n"
     ]
    }
   ],
   "source": [
    "ll.prepend(33)\n",
    "ll.prepend(1)\n",
    "ll.prepend(101)\n",
    "ll.prepend(1456)\n",
    "len(ll)\n",
    "ll.show()"
   ]
  },
  {
   "cell_type": "code",
   "execution_count": 54,
   "metadata": {},
   "outputs": [],
   "source": [
    "ll.reverse()"
   ]
  },
  {
   "cell_type": "code",
   "execution_count": 50,
   "metadata": {},
   "outputs": [
    {
     "name": "stdout",
     "output_type": "stream",
     "text": [
      "33\n",
      "1\n",
      "101\n",
      "1456\n"
     ]
    }
   ],
   "source": [
    "ll.show()"
   ]
  },
  {
   "cell_type": "code",
   "execution_count": null,
   "metadata": {},
   "outputs": [],
   "source": [
    "# look for memory management in both JavaScript and Python"
   ]
  },
  {
   "cell_type": "code",
   "execution_count": null,
   "metadata": {},
   "outputs": [],
   "source": []
  },
  {
   "cell_type": "code",
   "execution_count": null,
   "metadata": {},
   "outputs": [],
   "source": []
  },
  {
   "cell_type": "code",
   "execution_count": null,
   "metadata": {},
   "outputs": [],
   "source": []
  },
  {
   "cell_type": "code",
   "execution_count": null,
   "metadata": {},
   "outputs": [],
   "source": []
  },
  {
   "cell_type": "code",
   "execution_count": null,
   "metadata": {},
   "outputs": [],
   "source": []
  },
  {
   "cell_type": "code",
   "execution_count": null,
   "metadata": {},
   "outputs": [],
   "source": []
  },
  {
   "cell_type": "code",
   "execution_count": null,
   "metadata": {},
   "outputs": [],
   "source": []
  },
  {
   "cell_type": "code",
   "execution_count": null,
   "metadata": {},
   "outputs": [],
   "source": []
  },
  {
   "cell_type": "code",
   "execution_count": null,
   "metadata": {},
   "outputs": [],
   "source": []
  }
 ],
 "metadata": {
  "kernelspec": {
   "display_name": "Python 3",
   "language": "python",
   "name": "python3"
  },
  "language_info": {
   "codemirror_mode": {
    "name": "ipython",
    "version": 3
   },
   "file_extension": ".py",
   "mimetype": "text/x-python",
   "name": "python",
   "nbconvert_exporter": "python",
   "pygments_lexer": "ipython3",
   "version": "3.6.10"
  }
 },
 "nbformat": 4,
 "nbformat_minor": 4
}
