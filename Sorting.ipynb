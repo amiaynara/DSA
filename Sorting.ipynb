{
 "cells": [
  {
   "cell_type": "code",
   "execution_count": 1,
   "metadata": {},
   "outputs": [],
   "source": [
    "# bubble sort\n",
    "# bubble the smallest or the largest"
   ]
  },
  {
   "cell_type": "code",
   "execution_count": 87,
   "metadata": {},
   "outputs": [
    {
     "name": "stdout",
     "output_type": "stream",
     "text": [
      "[1, 6, 1, 66, 3, 32, 21, 33, 1]\n",
      "[1, 1, 6, 3, 32, 21, 33, 1, 66]\n",
      "[1, 1, 6, 3, 32, 21, 33, 1]\n",
      "[1, 1, 3, 6, 21, 32, 1, 33]\n",
      "[1, 1, 3, 6, 21, 32, 1]\n",
      "[1, 1, 3, 6, 21, 1, 32]\n",
      "[1, 1, 3, 6, 21, 1]\n",
      "[1, 1, 3, 6, 1, 21]\n",
      "[1, 1, 3, 6, 1]\n",
      "[1, 1, 3, 1, 6]\n",
      "[1, 1, 3, 1]\n",
      "[1, 1, 1, 3]\n",
      "[1, 1, 1]\n",
      "[1, 1, 1]\n",
      "[1, 1]\n",
      "[1, 1]\n",
      "[1]\n",
      "[1, 1, 6, 3, 32, 21, 33, 1, 66]\n"
     ]
    }
   ],
   "source": [
    "\n",
    "def bubble_sort_recur(a):\n",
    "    print(a)\n",
    "    if len(a)==1:\n",
    "        return\n",
    "    for i in range(len(a)-1):\n",
    "        if a[i] > a[i+1] :\n",
    "            a[i]=a[i]^a[i+1]\n",
    "            a[i+1]=a[i]^a[i+1]\n",
    "            a[i]=a[i]^a[i+1]\n",
    "    print(a)\n",
    "    bubble_sort_recur(a[:-1]) # here we don't have to return \n",
    "                        # we mutilate the actual array\n",
    "# Also note that we are exploiting the fact that, actual array \n",
    "# can affected when passed through a function \n",
    "# hence return is missing, in that case we would have to pass the \n",
    "# length up to which the 'bubbling' is supposed to be performed\n",
    "# along with the array\n",
    "b=[1,6,1,66,3,32,21,33,1]\n",
    "bubble_sort_recur(b)\n",
    "print(b)"
   ]
  },
  {
   "cell_type": "code",
   "execution_count": 78,
   "metadata": {},
   "outputs": [],
   "source": [
    "# Bubble sort Iterative"
   ]
  },
  {
   "cell_type": "code",
   "execution_count": 79,
   "metadata": {},
   "outputs": [],
   "source": [
    "def bubble_sort(a):\n",
    "    print('bubble sort called')\n",
    "    for j in range(len(a)):\n",
    "        for i in range(len(a)-j-1):\n",
    "            if a[i] > a[i+1]:\n",
    "                # swap the values\n",
    "                a[i]=a[i]^a[i+1]\n",
    "                a[i+1]=a[i]^a[i+1]\n",
    "                a[i]=a[i]^a[i+1]\n",
    "\n",
    "                "
   ]
  },
  {
   "cell_type": "code",
   "execution_count": 80,
   "metadata": {},
   "outputs": [
    {
     "name": "stdout",
     "output_type": "stream",
     "text": [
      "bubble sort called\n",
      "[1, 1, 3, 6, 21, 32, 32, 66]\n"
     ]
    }
   ],
   "source": [
    "\n",
    "a=[1,66,6,3,32,21,32,1]\n",
    "bubble_sort(a)\n",
    "print(a)"
   ]
  },
  {
   "cell_type": "code",
   "execution_count": 88,
   "metadata": {},
   "outputs": [],
   "source": [
    "# Selection sort\n",
    "# find the minimum/max and then swap"
   ]
  },
  {
   "cell_type": "code",
   "execution_count": 100,
   "metadata": {},
   "outputs": [
    {
     "name": "stdout",
     "output_type": "stream",
     "text": [
      "[1, 1, 3, 6, 21, 32, 32, 66]\n"
     ]
    }
   ],
   "source": [
    "def selection_sort(a):\n",
    "    if len(a) > 0 :\n",
    "        \n",
    "  \n",
    "        for i in range(len(a)):\n",
    "            minm=a[i]\n",
    "            min_index=i\n",
    "            for j in range(i,len(a)):\n",
    "                if a[j]< minm :\n",
    "                    minm=a[j]\n",
    "                    min_index=j\n",
    "                #print(a)\n",
    "            a[min_index] , a[i] = a[i], a[min_index]\n",
    "            #print(a) # uncomment to see the working of selection sort\n",
    "a=[1,66,6,3,32,21,32,1]\n",
    "selection_sort(a)\n",
    "print(a)"
   ]
  },
  {
   "cell_type": "code",
   "execution_count": null,
   "metadata": {},
   "outputs": [],
   "source": []
  },
  {
   "cell_type": "code",
   "execution_count": 109,
   "metadata": {},
   "outputs": [],
   "source": [
    "# Insertion Sort\n",
    "# iterate from 0-1, 0-2, 0-3,.... and reorder each time by swapping"
   ]
  },
  {
   "cell_type": "code",
   "execution_count": 117,
   "metadata": {},
   "outputs": [
    {
     "name": "stdout",
     "output_type": "stream",
     "text": [
      "[1, 1, 3, 6, 21, 32, 32, 66]\n"
     ]
    }
   ],
   "source": [
    "def insertion_sort(a):\n",
    "    for i in range(len(a)):\n",
    "        target=i\n",
    "        for j in range(i+1):\n",
    "            if a[i] < a[j]:\n",
    "                target=j\n",
    "                break\n",
    "        temp=a[i]\n",
    "        a[target+1:i+1]=a[target:i]\n",
    "        a[target]=temp\n",
    "a=[1,66,6,3,32,21,32,1]\n",
    "insertion_sort(a)\n",
    "print(a)\n",
    "# O(n^2)"
   ]
  },
  {
   "cell_type": "code",
   "execution_count": 26,
   "metadata": {},
   "outputs": [
    {
     "name": "stdout",
     "output_type": "stream",
     "text": [
      "[1, 1, 3, 6, 21, 32, 32, 66]\n"
     ]
    }
   ],
   "source": [
    "# Merge Sort\n",
    "def merge_sort(a):\n",
    "    # definition\n",
    "    if len(a)<2 :\n",
    "        return a\n",
    "    else:\n",
    "        mid=int(len(a)/2)\n",
    "        left=a[:mid]\n",
    "        right=a[mid:]\n",
    "        return merge_sorted_array(merge_sort(left), merge_sort(right))\n",
    "def merge_sorted_array(a,b):\n",
    "    \n",
    "    na=len(a)\n",
    "    nb=len(b)\n",
    "    i=0\n",
    "    j=0\n",
    "    c=[]\n",
    "    while i < na and j < nb :\n",
    "        if a[i] < b[j]:\n",
    "            c.append(a[i])\n",
    "            i+=1\n",
    "        elif a[i] > b[j]:\n",
    "            c.append(b[j])\n",
    "            j+=1\n",
    "        elif a[i]==b[j] :\n",
    "            c.append(a[i])\n",
    "            c.append(b[j]) # remove this line to remove duplicates!!\n",
    "            j+=1\n",
    "            i+=1\n",
    "    if i >= na : # do not forget the equality here\n",
    "        c.extend(b[j:])\n",
    "    elif j >= nb :\n",
    "        c.extend(a[i:])\n",
    "    return c\n",
    "a=[1,66,6,3,32,21,32,1]\n",
    "k=merge_sort(a)\n",
    "print(k)"
   ]
  },
  {
   "cell_type": "code",
   "execution_count": 22,
   "metadata": {},
   "outputs": [
    {
     "name": "stdout",
     "output_type": "stream",
     "text": [
      "[5] [2]\n",
      "0 0\n",
      "[5]\n",
      "[2, 5]  is c\n"
     ]
    },
    {
     "data": {
      "text/plain": [
       "[2, 5]"
      ]
     },
     "execution_count": 22,
     "metadata": {},
     "output_type": "execute_result"
    }
   ],
   "source": [
    "merge_sorted_array([5],[2])"
   ]
  },
  {
   "cell_type": "code",
   "execution_count": 27,
   "metadata": {},
   "outputs": [],
   "source": [
    "#Quick Sort"
   ]
  },
  {
   "cell_type": "code",
   "execution_count": null,
   "metadata": {},
   "outputs": [],
   "source": []
  },
  {
   "cell_type": "code",
   "execution_count": 28,
   "metadata": {},
   "outputs": [],
   "source": [
    "# Heap Sort"
   ]
  },
  {
   "cell_type": "code",
   "execution_count": null,
   "metadata": {},
   "outputs": [],
   "source": []
  },
  {
   "cell_type": "code",
   "execution_count": 31,
   "metadata": {},
   "outputs": [],
   "source": [
    "# Non-comparison Sort\n",
    "# Radix Sort"
   ]
  },
  {
   "cell_type": "code",
   "execution_count": null,
   "metadata": {},
   "outputs": [],
   "source": []
  },
  {
   "cell_type": "code",
   "execution_count": null,
   "metadata": {},
   "outputs": [],
   "source": [
    "# "
   ]
  },
  {
   "cell_type": "code",
   "execution_count": null,
   "metadata": {},
   "outputs": [],
   "source": []
  },
  {
   "cell_type": "code",
   "execution_count": null,
   "metadata": {},
   "outputs": [],
   "source": []
  },
  {
   "cell_type": "code",
   "execution_count": null,
   "metadata": {},
   "outputs": [],
   "source": []
  },
  {
   "cell_type": "code",
   "execution_count": 32,
   "metadata": {},
   "outputs": [],
   "source": [
    "# Python uses Timsort, which is a combination of both insertion sort and merge sort. They perform well on real world data. \n"
   ]
  },
  {
   "cell_type": "code",
   "execution_count": null,
   "metadata": {},
   "outputs": [],
   "source": []
  }
 ],
 "metadata": {
  "kernelspec": {
   "display_name": "Python 3",
   "language": "python",
   "name": "python3"
  },
  "language_info": {
   "codemirror_mode": {
    "name": "ipython",
    "version": 3
   },
   "file_extension": ".py",
   "mimetype": "text/x-python",
   "name": "python",
   "nbconvert_exporter": "python",
   "pygments_lexer": "ipython3",
   "version": "3.6.10"
  }
 },
 "nbformat": 4,
 "nbformat_minor": 4
}
