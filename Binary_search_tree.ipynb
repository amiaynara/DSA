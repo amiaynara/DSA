{
 "cells": [
  {
   "cell_type": "code",
   "execution_count": 1,
   "metadata": {},
   "outputs": [],
   "source": [
    "#############################################\n",
    "# Binary Search Tree [BST]                  #\n",
    "# One of the most encountered               #\n",
    "# left-child<=parent , right-child > parent # \n",
    "#############################################"
   ]
  },
  {
   "cell_type": "code",
   "execution_count": 2,
   "metadata": {},
   "outputs": [],
   "source": [
    "class Node():\n",
    "    def __init__(self,data, left=None, right=None):\n",
    "        self.data=data\n",
    "        self.left=left\n",
    "        self.right=right\n",
    "    "
   ]
  },
  {
   "cell_type": "code",
   "execution_count": 1,
   "metadata": {},
   "outputs": [
    {
     "ename": "SyntaxError",
     "evalue": "invalid syntax (<ipython-input-1-fbad754dc28a>, line 41)",
     "output_type": "error",
     "traceback": [
      "\u001b[0;36m  File \u001b[0;32m\"<ipython-input-1-fbad754dc28a>\"\u001b[0;36m, line \u001b[0;32m41\u001b[0m\n\u001b[0;31m    return curr 3\u001b[0m\n\u001b[0m                ^\u001b[0m\n\u001b[0;31mSyntaxError\u001b[0m\u001b[0;31m:\u001b[0m invalid syntax\n"
     ]
    }
   ],
   "source": [
    "class bst():\n",
    "    \n",
    "    def __init__(self):\n",
    "        print('BST initiated')\n",
    "        self.root=None\n",
    "    def add(self, data):\n",
    "        new_node=Node(data)\n",
    "        if self.root == None :\n",
    "            self.root=new_node\n",
    "            return\n",
    "        starter=self.root\n",
    "        self.find_position(new_node,starter)\n",
    "    def find_position(self, node, curr):\n",
    "\n",
    "        print(f'comparing {curr.data} with {node.data}')\n",
    "        if node.data <= curr.data :\n",
    "            print(f'comparing {curr.data} is greater than {node.data}')\n",
    "            if curr.left == None :\n",
    "                curr.left=node\n",
    "                return\n",
    "            self.find_position(node, curr.left)\n",
    "\n",
    "        elif node.data > curr.data :\n",
    "            print(f'comparing {curr.data}is smaller than {node.data}')\n",
    "            if curr.right == None:\n",
    "                curr.right=node\n",
    "                return\n",
    "            self.find_position(node, curr.right)\n",
    "    \n",
    "    def lookup(self, data):\n",
    "        starter=self.root\n",
    "        verdict=self.search(data, starter)\n",
    "        if verdict :\n",
    "            print(f'{data} found')\n",
    "        else: \n",
    "            print(f'{data} not found')\n",
    "    def search(self, data, curr):\n",
    "        if curr==None:\n",
    "            return False # if you reached a leaf => data does not exist\n",
    "        if curr.data == data :\n",
    "            return curr # or just return True  \n",
    "        elif curr.data < data :\n",
    "            verdict=self.search(data, curr.right)\n",
    "        elif curr.data > data :\n",
    "            verdict=self.search(data, curr.left)\n",
    "        \n",
    "        return verdict # verdict will be constructed based on the returns made during recursions\n",
    "    \n",
    "#     def remove(self, data):\n",
    "#         if self.root == None:\n",
    "#             return\n",
    "#         curr=self.root\n",
    "#         parent=None # parent of root is None\n",
    "#         while curr!=None :\n",
    "#             if data < curr.data :\n",
    "#                 parent=curr\n",
    "#                 curr=curr.left\n",
    "#             elif data > curr.data :\n",
    "#                 parent=curr\n",
    "#                 curr=curr.right\n",
    "#             elif data==curr.data :\n",
    "#                 # if the  current has no right child\n",
    "#                 if curr.right == None :\n",
    "#                     if parent==None :\n",
    "#                         parent.left=curr.left\n",
    "#                     else:\n",
    "#                         if curr.data <= parent.data :\n",
    "#                             parent.left=curr.left\n",
    "#                         elif curr.data > parent.data:\n",
    "#                             parent.right=curr.left\n",
    "#                 elif curr.right.left==None:\n",
    "#                     if parent==None :\n",
    "#                         # shift root to curr\n",
    "#                     if parent.data >= curr.data :\n",
    "#                         # value found on the left side of the parent\n",
    "                        \n",
    "        \n",
    "    # the below traversal should work on any binay tree irrespect of implementation[ given implemented using class]   \n",
    "    # So, below is quite general\n",
    "    def iot(self, curr='root'): # this can also be directly be called as well \n",
    "        # you cannot use self.root as a parameter, instead use the following trick \n",
    "        # as this the part of function definition\n",
    "        # def iot(self, curr=self.root) cannot be used nor this-> def iot(self, curr=root):\n",
    "        if curr=='root':\n",
    "            curr=self.root\n",
    "        if curr == None :\n",
    "            return \n",
    "        self.iot(curr.left)\n",
    "        print(curr.data)\n",
    "        self.iot(curr.right)\n",
    "    # this could be removed \n",
    "    def iot_caller(self): # this should be called.. because it has no parameter\n",
    "        starter=self.root\n",
    "        self.iot(starter)"
   ]
  },
  {
   "cell_type": "code",
   "execution_count": 141,
   "metadata": {},
   "outputs": [
    {
     "name": "stdout",
     "output_type": "stream",
     "text": [
      "BST initiated\n"
     ]
    }
   ],
   "source": [
    "t=bst()"
   ]
  },
  {
   "cell_type": "code",
   "execution_count": 142,
   "metadata": {},
   "outputs": [
    {
     "name": "stdout",
     "output_type": "stream",
     "text": [
      "comparing 12 with 10\n",
      "comparing 12 is greater than 10\n",
      "comparing 12 with 5\n",
      "comparing 12 is greater than 5\n",
      "comparing 10 with 5\n",
      "comparing 10 is greater than 5\n",
      "comparing 12 with 15\n",
      "comparing 12is smaller than 15\n",
      "comparing 12 with 16\n",
      "comparing 12is smaller than 16\n",
      "comparing 15 with 16\n",
      "comparing 15is smaller than 16\n",
      "comparing 12 with 11\n",
      "comparing 12 is greater than 11\n",
      "comparing 10 with 11\n",
      "comparing 10is smaller than 11\n",
      "comparing 12 with 19\n",
      "comparing 12is smaller than 19\n",
      "comparing 15 with 19\n",
      "comparing 15is smaller than 19\n",
      "comparing 16 with 19\n",
      "comparing 16is smaller than 19\n"
     ]
    }
   ],
   "source": [
    "t.add(12)\n",
    "t.add(10)\n",
    "t.add(5)\n",
    "t.add(15)\n",
    "t.add(16)\n",
    "t.add(11)\n",
    "t.add(19)"
   ]
  },
  {
   "cell_type": "code",
   "execution_count": 143,
   "metadata": {},
   "outputs": [
    {
     "name": "stdout",
     "output_type": "stream",
     "text": [
      "5\n",
      "10\n",
      "11\n",
      "12\n",
      "15\n",
      "16\n",
      "19\n"
     ]
    }
   ],
   "source": [
    "t.iot() # note that in-order in BST gives sorted array depth first search!"
   ]
  },
  {
   "cell_type": "code",
   "execution_count": 144,
   "metadata": {},
   "outputs": [
    {
     "name": "stdout",
     "output_type": "stream",
     "text": [
      "16 found\n"
     ]
    }
   ],
   "source": [
    "t.lookup(16)"
   ]
  },
  {
   "cell_type": "code",
   "execution_count": null,
   "metadata": {},
   "outputs": [],
   "source": []
  },
  {
   "cell_type": "code",
   "execution_count": null,
   "metadata": {},
   "outputs": [],
   "source": []
  },
  {
   "cell_type": "code",
   "execution_count": null,
   "metadata": {},
   "outputs": [],
   "source": []
  },
  {
   "cell_type": "code",
   "execution_count": null,
   "metadata": {},
   "outputs": [],
   "source": []
  },
  {
   "cell_type": "code",
   "execution_count": null,
   "metadata": {},
   "outputs": [],
   "source": []
  }
 ],
 "metadata": {
  "kernelspec": {
   "display_name": "Python 3",
   "language": "python",
   "name": "python3"
  },
  "language_info": {
   "codemirror_mode": {
    "name": "ipython",
    "version": 3
   },
   "file_extension": ".py",
   "mimetype": "text/x-python",
   "name": "python",
   "nbconvert_exporter": "python",
   "pygments_lexer": "ipython3",
   "version": "3.6.10"
  }
 },
 "nbformat": 4,
 "nbformat_minor": 4
}
