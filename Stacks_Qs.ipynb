{
 "cells": [
  {
   "cell_type": "code",
   "execution_count": 1,
   "metadata": {},
   "outputs": [],
   "source": [
    "# At first glance it can be observed that, by definition of Stacks ans Queues \n",
    "# they are kind of limited, in the way the data can be accessed from them. \n",
    "# However, this is actually what makes them useful. This helps us exercise control\n",
    "# over the data. Or How much control we want the users to give away. "
   ]
  },
  {
   "cell_type": "code",
   "execution_count": 2,
   "metadata": {},
   "outputs": [],
   "source": [
    "######## Stacks #########"
   ]
  },
  {
   "cell_type": "code",
   "execution_count": 3,
   "metadata": {},
   "outputs": [],
   "source": [
    "# Only the top element is accessible. "
   ]
  },
  {
   "cell_type": "code",
   "execution_count": 37,
   "metadata": {},
   "outputs": [],
   "source": [
    "class Node():\n",
    "    def __init__(self,data,nxt=None):\n",
    "        self.data=data\n",
    "        self.next=nxt\n",
    "    def get_value(self):\n",
    "        return self.data\n",
    "    def get_next(self):\n",
    "        return self.next\n",
    "    def set_next(self,nxt):\n",
    "        self.next=nxt\n",
    "    def set_data(self, data):\n",
    "        self.data=data\n",
    "    "
   ]
  },
  {
   "cell_type": "code",
   "execution_count": 38,
   "metadata": {},
   "outputs": [],
   "source": [
    "class Stack():\n",
    "    top=None\n",
    "    root=None\n",
    "    def __init__(self):\n",
    "        print(\"Stack created\")\n",
    "        self.n=0\n",
    "    \n",
    "    def is_empty(self):\n",
    "        if self.top==None: # note you cannot use top==root as it is True for first element\n",
    "            return True\n",
    "        else: \n",
    "            return False\n",
    "    def push(self, data):\n",
    "        new_node=Node(data)\n",
    "        self.n+=1\n",
    "        if self.is_empty():\n",
    "            self.top=new_node\n",
    "            self.root=new_node\n",
    "        new_node.set_next(self.top)\n",
    "        self.top=new_node\n",
    "        \n",
    "    def pop(self):\n",
    "        if self.is_empty():\n",
    "            print(\"Cannot Pop, Stack is Empty.\")\n",
    "            return\n",
    "        popped_node_data=self.top.get_value()\n",
    "        if self.root== self.top :\n",
    "            # Reached the first element\n",
    "            popped_node_data=self.top.get_value()\n",
    "            self.top=None\n",
    "            self.root=None\n",
    "        else:\n",
    "            self.top=self.top.next  \n",
    "        # 1st <-- 2nd <-- 3rd <-- 4th <-- 5th <------ Top\n",
    "        # Just make top point at 4th element and delete the 5th node, if you can \n",
    "        \n",
    "        self.n-=1\n",
    "        return popped_node_data\n",
    "    def peek(self):\n",
    "        if self.is_empty():\n",
    "            print('Cannot peek into an Empty stack')\n",
    "            return\n",
    "        return self.top.get_value()"
   ]
  },
  {
   "cell_type": "code",
   "execution_count": 6,
   "metadata": {},
   "outputs": [
    {
     "name": "stdout",
     "output_type": "stream",
     "text": [
      "Stack created\n"
     ]
    }
   ],
   "source": [
    "S=Stack()"
   ]
  },
  {
   "cell_type": "code",
   "execution_count": 7,
   "metadata": {},
   "outputs": [
    {
     "data": {
      "text/plain": [
       "'IIT Bhilai'"
      ]
     },
     "execution_count": 7,
     "metadata": {},
     "output_type": "execute_result"
    }
   ],
   "source": [
    "S.push('amiay')\n",
    "S.push(3)\n",
    "S.push(1998)\n",
    "S.push('IIT Bhilai')\n",
    "S.peek()\n"
   ]
  },
  {
   "cell_type": "code",
   "execution_count": 8,
   "metadata": {},
   "outputs": [
    {
     "name": "stdout",
     "output_type": "stream",
     "text": [
      "IIT Bhilai\n",
      "1998\n",
      "3\n",
      "amiay\n",
      "Cannot Pop, Stack is Empty.\n"
     ]
    }
   ],
   "source": [
    "print(S.pop())\n",
    "print(S.pop())\n",
    "print(S.pop())\n",
    "print(S.pop())\n",
    "S.pop()"
   ]
  },
  {
   "cell_type": "code",
   "execution_count": null,
   "metadata": {},
   "outputs": [],
   "source": []
  },
  {
   "cell_type": "code",
   "execution_count": null,
   "metadata": {},
   "outputs": [],
   "source": []
  },
  {
   "cell_type": "code",
   "execution_count": 9,
   "metadata": {},
   "outputs": [],
   "source": [
    "### Queues###"
   ]
  },
  {
   "cell_type": "code",
   "execution_count": 10,
   "metadata": {},
   "outputs": [],
   "source": [
    "# Qs are Fifo, They have front and back ends. As in a queue for a movie ticket, the  movie ticket can only be\n",
    "# provided at the front of the line. Similarly, we can dequeue only from the front of the Q. Similarly, we an\n",
    "# element can be inserted only at the 'rear' of the Q. We can implement, it using both lists and linked lists\n",
    "# here, we are using linked lists, for that purpose. "
   ]
  },
  {
   "cell_type": "code",
   "execution_count": 11,
   "metadata": {},
   "outputs": [],
   "source": [
    "class Node():\n",
    "    \n",
    "    def __init__(self, data, nxt=None):\n",
    "        self.data=data\n",
    "        self.next=nxt\n",
    "    def get_data(self):\n",
    "        return self.data\n",
    "    def get_next(self):\n",
    "        return self.next\n",
    "    def set_data(self,data):\n",
    "        self.data=data\n",
    "    def set_next(self,node):\n",
    "        self.next=node"
   ]
  },
  {
   "cell_type": "code",
   "execution_count": 12,
   "metadata": {},
   "outputs": [],
   "source": [
    "class Q():\n",
    "    rear=None\n",
    "    front=None\n",
    "    size=0\n",
    "    def __init__(self):\n",
    "        print('The Q has been spawned')\n",
    "    def is_empty(self):\n",
    "        if self.rear==None: # or front== None\n",
    "            return True\n",
    "        return False\n",
    "    def enqueue(self,data):\n",
    "        new_node=Node(data)\n",
    "        self.size+=1\n",
    "        if self.is_empty():\n",
    "            self.front=new_node\n",
    "            self.rear=new_node\n",
    "            return \n",
    "        # make the second newest node point the  newest node\n",
    "        self.rear.set_next(new_node)\n",
    "        self.rear=new_node\n",
    "    def dequeue(self):\n",
    "        # has to be done from the front of the queue only\n",
    "        if self.is_empty():\n",
    "            print('Cannot dequeue from an empty Q')\n",
    "            return\n",
    "        data=self.front.get_data()\n",
    "\n",
    "        if self.rear == self.front :\n",
    "            # the front and the rear should now be made point to None\n",
    "            # 'NoneType' object has no attribute 'get_data'\n",
    "            # In C++ or Java, we might not have to do this\n",
    "            # this, I think, is because of the Memory management of Python and how None object works in python\n",
    "            self.rear=None\n",
    "            self.front=None\n",
    "            return data\n",
    "        self.size-=1\n",
    "        data=self.front.get_data()\n",
    "        self.front=self.front.get_next() # make 'front' point to the next element\n",
    "        # front-------> 1st --> 2nd --> 3r --> 4th --> 5th\n",
    "        # 1st front-------> 2nd --> 3rd --> 4th --> 5th\n",
    "        # It is quite revealing to realise that (1st) cannot Never-Ever be reached again, explains copying.\n",
    "        return data\n",
    "    def peek(self):\n",
    "        if self.is_empty():\n",
    "            print('You cannot peek into an Empty Q')\n",
    "            return\n",
    "        return self.front.get_data()\n",
    "    # you can also try and implement \n",
    "    # def peek_rear(self):"
   ]
  },
  {
   "cell_type": "code",
   "execution_count": 13,
   "metadata": {},
   "outputs": [
    {
     "name": "stdout",
     "output_type": "stream",
     "text": [
      "The Q has been spawned\n"
     ]
    }
   ],
   "source": [
    "q=Q()"
   ]
  },
  {
   "cell_type": "code",
   "execution_count": 14,
   "metadata": {},
   "outputs": [],
   "source": [
    "q.enqueue(3)\n",
    "q.enqueue(40)\n",
    "q.enqueue(8)"
   ]
  },
  {
   "cell_type": "code",
   "execution_count": 15,
   "metadata": {},
   "outputs": [
    {
     "data": {
      "text/plain": [
       "3"
      ]
     },
     "execution_count": 15,
     "metadata": {},
     "output_type": "execute_result"
    }
   ],
   "source": [
    "q.peek()"
   ]
  },
  {
   "cell_type": "code",
   "execution_count": 16,
   "metadata": {},
   "outputs": [
    {
     "data": {
      "text/plain": [
       "8"
      ]
     },
     "execution_count": 16,
     "metadata": {},
     "output_type": "execute_result"
    }
   ],
   "source": [
    "q.dequeue()\n",
    "q.dequeue()\n",
    "q.dequeue()"
   ]
  },
  {
   "cell_type": "code",
   "execution_count": 17,
   "metadata": {},
   "outputs": [],
   "source": [
    "# implement Qs using stacks"
   ]
  },
  {
   "cell_type": "code",
   "execution_count": 82,
   "metadata": {},
   "outputs": [],
   "source": [
    "class MyQ():\n",
    "    def __init__(self):\n",
    "        print('Queue created')\n",
    "        self.q=Stack()\n",
    "        self.size=0\n",
    "    def peek(self):\n",
    "        return self.q.root.get_value()\n",
    "    def enqueue(self,data):\n",
    "        print('previous size was', self.size)\n",
    "        self.q.push(data)\n",
    "        self.size=self.q.n\n",
    "        print('new size is ', self.size)\n",
    "\n",
    "    def rev(self,stack):\n",
    "        rev_stack=Stack()\n",
    "        for i in range(stack.n):\n",
    "            rev_stack.push(stack.pop())\n",
    "        return rev_stack\n",
    "    def dequeue(self):\n",
    "        if self.size==0:\n",
    "            print('Cannot DQ from empty Q')\n",
    "            return\n",
    "        #print(self.q.n, ' is the size before reversing q')\n",
    "\n",
    "        self.q=self.rev(self.q)\n",
    "        #print(self.q.n, ' is the new size after reversing of q')\n",
    "\n",
    "        data=self.q.pop()\n",
    "        #print(self.q.n, ' is the new size after popping of q')\n",
    "        self.size=self.q.n\n",
    "        self.q=self.rev(self.q)\n",
    "        #print(self.q.n, ' is the final size of q')\n",
    "\n",
    "        return data\n",
    "# there is something that you need to address here\n",
    "# As the self.q will be passed to the self.rev(self,stack) :\n",
    "#     def rev(self,stack):\n",
    "#         rev_stack=Stack()\n",
    "#         for i in range(self.size):\n",
    "#             rev_stack.push(stack.pop())\n",
    "#         return rev_stack.pop()\n",
    "#     def dequeue(self):\n",
    "#         if self.size==0:\n",
    "#             self.rev(self.q)\n",
    "#             return\n",
    "#         data=self.rev(self.q)\n",
    "# \n",
    "# the objects in python are passed by REFERENCE [ not be value]\n",
    "# be careful while passing the objects, because you might end\n",
    "# up mutilating your actual object, thinking of it as a copy!\n",
    "# Solution: pass self.q.copy() instead of passing the actual object\n",
    "# Or ammend your function or the logic so as to incorporate the fact.\n",
    "#  In the  above I have changed the logic. "
   ]
  },
  {
   "cell_type": "code",
   "execution_count": 83,
   "metadata": {},
   "outputs": [
    {
     "name": "stdout",
     "output_type": "stream",
     "text": [
      "Queue created\n",
      "Stack created\n"
     ]
    }
   ],
   "source": [
    "q=MyQ()"
   ]
  },
  {
   "cell_type": "code",
   "execution_count": 84,
   "metadata": {},
   "outputs": [
    {
     "name": "stdout",
     "output_type": "stream",
     "text": [
      "previous size was 0\n",
      "new size is  1\n",
      "previous size was 1\n",
      "new size is  2\n",
      "previous size was 2\n",
      "new size is  3\n"
     ]
    }
   ],
   "source": [
    "q.enqueue(33)\n",
    "q.enqueue(23)\n",
    "q.enqueue(32)"
   ]
  },
  {
   "cell_type": "code",
   "execution_count": 85,
   "metadata": {},
   "outputs": [
    {
     "data": {
      "text/plain": [
       "33"
      ]
     },
     "execution_count": 85,
     "metadata": {},
     "output_type": "execute_result"
    }
   ],
   "source": [
    "q.peek()"
   ]
  },
  {
   "cell_type": "code",
   "execution_count": 86,
   "metadata": {},
   "outputs": [
    {
     "name": "stdout",
     "output_type": "stream",
     "text": [
      "Stack created\n",
      "Stack created\n",
      "Stack created\n",
      "Stack created\n",
      "Stack created\n",
      "Stack created\n",
      "Cannot DQ from empty Q\n"
     ]
    }
   ],
   "source": [
    "q.dequeue()\n",
    "q.dequeue()\n",
    "q.dequeue()\n",
    "q.dequeue()"
   ]
  },
  {
   "cell_type": "code",
   "execution_count": null,
   "metadata": {},
   "outputs": [],
   "source": []
  },
  {
   "cell_type": "code",
   "execution_count": null,
   "metadata": {},
   "outputs": [],
   "source": []
  },
  {
   "cell_type": "code",
   "execution_count": null,
   "metadata": {},
   "outputs": [],
   "source": []
  }
 ],
 "metadata": {
  "kernelspec": {
   "display_name": "Python 3",
   "language": "python",
   "name": "python3"
  },
  "language_info": {
   "codemirror_mode": {
    "name": "ipython",
    "version": 3
   },
   "file_extension": ".py",
   "mimetype": "text/x-python",
   "name": "python",
   "nbconvert_exporter": "python",
   "pygments_lexer": "ipython3",
   "version": "3.6.10"
  }
 },
 "nbformat": 4,
 "nbformat_minor": 4
}
