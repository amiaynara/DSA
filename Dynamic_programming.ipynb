{
 "cells": [
  {
   "cell_type": "code",
   "execution_count": 1,
   "metadata": {},
   "outputs": [],
   "source": [
    "#### DYNAMIC PROGRAMMING ####"
   ]
  },
  {
   "cell_type": "code",
   "execution_count": 2,
   "metadata": {},
   "outputs": [],
   "source": [
    "# the term dp is just a technique(never an algo)\n",
    "# The term in itself is just a garbage. \n",
    "# It just says that, 'Do you have something that you can cache?'\n",
    "# then you can use the previous results for something new.\n",
    "# What should you know about DP, for application purposes?\n",
    "# We are able to divide the Main problem in several subproblems. \n",
    "# And then solve each subproblem only once, and store these values,\n",
    "# And use it for evaluating the larger problem. "
   ]
  },
  {
   "cell_type": "code",
   "execution_count": 3,
   "metadata": {},
   "outputs": [],
   "source": [
    "# Memoization is a technique of caching.Caching? You better recall\n",
    "# it from OS. "
   ]
  },
  {
   "cell_type": "code",
   "execution_count": 4,
   "metadata": {},
   "outputs": [],
   "source": [
    "# Memoization"
   ]
  },
  {
   "cell_type": "code",
   "execution_count": 5,
   "metadata": {},
   "outputs": [],
   "source": [
    "# suppose we have some calculation or operation to performt that \n",
    "# takes a lot of time. \n",
    "# Also note that caching can be done only when the number of parameters\n",
    "# is relatively not very random. \n",
    "# In case of random inputs... Caching(Memoization) will miss its\n",
    "# point\n",
    "# So if we have a prior info that we have to perfrom repeated \n",
    "# operations that take a long time, we should go with Memozn"
   ]
  },
  {
   "cell_type": "code",
   "execution_count": 10,
   "metadata": {},
   "outputs": [
    {
     "name": "stdout",
     "output_type": "stream",
     "text": [
      "after a long time\n",
      "25\n"
     ]
    }
   ],
   "source": [
    "def time_taking_function(n):\n",
    "    print('after a long time')\n",
    "    return n**2\n",
    "print(time_taking_function(5))"
   ]
  },
  {
   "cell_type": "code",
   "execution_count": 11,
   "metadata": {},
   "outputs": [],
   "source": [
    "# if we store the values in a dictionary we can retrieve it\n",
    "# lot faster"
   ]
  },
  {
   "cell_type": "code",
   "execution_count": 12,
   "metadata": {},
   "outputs": [],
   "source": [
    "cache={}\n",
    "def memoization(n):\n",
    "    if n in cache:\n",
    "        return cache[n]\n",
    "    else:\n",
    "          \n",
    "            \n",
    "        result=time_taking_function(n)\n",
    "        cache[n]=result\n",
    "        # OR\n",
    "        # write the operation here itself \n",
    "        # and just just store the result before returning it. \n",
    "        return result\n",
    "# Note that I have assumed that cache is not very expensive [which is normally not true]\n",
    "# so to tackle this we deploy some 'Caching Techniques', where we try and guess which key-value pair from the \n",
    "# cache can be removed, so as to get the maximumm hit percentages. \n",
    "# LRU, MRU, Randomised..... and so on ... \n",
    "# Here we can use machine learning and all sorts of fancy stuff to achieve maximum hit rate. "
   ]
  },
  {
   "cell_type": "code",
   "execution_count": 13,
   "metadata": {},
   "outputs": [],
   "source": [
    "# Using memoization we can reduce the time complexity or even space complexity. "
   ]
  },
  {
   "cell_type": "code",
   "execution_count": 14,
   "metadata": {},
   "outputs": [],
   "source": [
    "# It is general practise to enclose the above function in a wrapper. In JS it is called  closure, in python'\n",
    "# it could be a wrapper like in decorators. "
   ]
  },
  {
   "cell_type": "code",
   "execution_count": null,
   "metadata": {},
   "outputs": [],
   "source": [
    "# fibonacci(n), using recursion takes a lot of time. O(2^n)\n",
    "# This can be reduced [as if magically] to O(n) using DP(memoization)"
   ]
  },
  {
   "cell_type": "code",
   "execution_count": 15,
   "metadata": {},
   "outputs": [],
   "source": [
    "# fibonacci_memoized"
   ]
  },
  {
   "cell_type": "code",
   "execution_count": 67,
   "metadata": {},
   "outputs": [
    {
     "name": "stdout",
     "output_type": "stream",
     "text": [
      "long time taken\n",
      "long time taken\n",
      "long time taken\n",
      "long time taken\n",
      "long time taken\n",
      "long time taken\n",
      "long time taken\n",
      "long time taken\n",
      "long time taken\n",
      "long time taken\n",
      "long time taken\n",
      "long time taken\n",
      "long time taken\n",
      "for 2 called\n",
      "this called\n"
     ]
    },
    {
     "data": {
      "text/plain": [
       "377"
      ]
     },
     "execution_count": 67,
     "metadata": {},
     "output_type": "execute_result"
    }
   ],
   "source": [
    "fib_cache={}\n",
    "def memoized_fibonacci(n):\n",
    "\n",
    "    if n in fib_cache:\n",
    "        return fib_cache[n]  # just remove this block and see the massive difference yourself\n",
    "    # A rare chance to 'Comprehend' the difference between the linear and exponential time complexities. \n",
    "    else:\n",
    "        if n==1:\n",
    "            print('this called')\n",
    "            fib_cache[n]=0 # on removing this line we this 'if' is executed 3 times. but now only 2 times.\n",
    "                            # not too much efficient (?), but it makes sure you understand the working.\n",
    "            return 0\n",
    "        if n==2:\n",
    "            print('for 2 called')\n",
    "            fib_cache[n]=1\n",
    "            return 1\n",
    "        print('long time taken')\n",
    "        result=memoized_fibonacci(n-1) + memoized_fibonacci(n-2)\n",
    "        fib_cache[n]=result\n",
    "        return result\n",
    "memoized_fibonacci(15)"
   ]
  },
  {
   "cell_type": "code",
   "execution_count": 68,
   "metadata": {},
   "outputs": [
    {
     "data": {
      "text/plain": [
       "{2: 1,\n",
       " 1: 0,\n",
       " 3: 1,\n",
       " 4: 2,\n",
       " 5: 3,\n",
       " 6: 5,\n",
       " 7: 8,\n",
       " 8: 13,\n",
       " 9: 21,\n",
       " 10: 34,\n",
       " 11: 55,\n",
       " 12: 89,\n",
       " 13: 144,\n",
       " 14: 233,\n",
       " 15: 377}"
      ]
     },
     "execution_count": 68,
     "metadata": {},
     "output_type": "execute_result"
    }
   ],
   "source": [
    "fib_cache"
   ]
  },
  {
   "cell_type": "code",
   "execution_count": null,
   "metadata": {},
   "outputs": [],
   "source": []
  },
  {
   "cell_type": "code",
   "execution_count": 69,
   "metadata": {},
   "outputs": [],
   "source": [
    "# Memoization using recursion [as in above example] is top-bottom approach.\n",
    "# Top is the solution we wanted , but to get that we started top and then went down to calculate the \n",
    "# base cases required to obtain the answer. "
   ]
  },
  {
   "cell_type": "code",
   "execution_count": 70,
   "metadata": {},
   "outputs": [],
   "source": [
    "# there is yet another approach ( Also a DP ) to get to the answer ----> Bottom-Up approach\n",
    "# here we start with the base cases and build up to the required answer. "
   ]
  },
  {
   "cell_type": "code",
   "execution_count": 71,
   "metadata": {},
   "outputs": [],
   "source": [
    "def fib_bottom_up(n):\n",
    "    answer=[0,1]\n",
    "    for i in range(2,n):\n",
    "        answer.append(answer[i-1] + answer[i-2])\n",
    "    print(answer, len(answer))\n",
    "    return answer[-1] \n",
    "# here also you can notice that we are avoiding the repeated calculation, ofcourse at the expense of some memory. \n",
    "# We start with some base fib(1)=0 fib(2)=1.... and these two are sufficient enough to get the required answer."
   ]
  },
  {
   "cell_type": "code",
   "execution_count": 72,
   "metadata": {},
   "outputs": [
    {
     "name": "stdout",
     "output_type": "stream",
     "text": [
      "[0, 1] 2\n",
      "15\n",
      "dict_values([1, 0, 1, 2, 3, 5, 8, 13, 21, 34, 55, 89, 144, 233, 377])\n"
     ]
    }
   ],
   "source": [
    "fib_bottom_up(2)\n",
    "print(len(fib_cache.values()))\n",
    "print(fib_cache.values())"
   ]
  },
  {
   "cell_type": "code",
   "execution_count": null,
   "metadata": {},
   "outputs": [],
   "source": []
  },
  {
   "cell_type": "code",
   "execution_count": null,
   "metadata": {},
   "outputs": [],
   "source": []
  },
  {
   "cell_type": "code",
   "execution_count": null,
   "metadata": {},
   "outputs": [],
   "source": []
  },
  {
   "cell_type": "code",
   "execution_count": null,
   "metadata": {},
   "outputs": [],
   "source": []
  },
  {
   "cell_type": "code",
   "execution_count": null,
   "metadata": {},
   "outputs": [],
   "source": []
  },
  {
   "cell_type": "code",
   "execution_count": null,
   "metadata": {},
   "outputs": [],
   "source": []
  },
  {
   "cell_type": "code",
   "execution_count": null,
   "metadata": {},
   "outputs": [],
   "source": []
  },
  {
   "cell_type": "code",
   "execution_count": null,
   "metadata": {},
   "outputs": [],
   "source": []
  },
  {
   "cell_type": "code",
   "execution_count": null,
   "metadata": {},
   "outputs": [],
   "source": []
  },
  {
   "cell_type": "code",
   "execution_count": null,
   "metadata": {},
   "outputs": [],
   "source": []
  },
  {
   "cell_type": "code",
   "execution_count": null,
   "metadata": {},
   "outputs": [],
   "source": []
  }
 ],
 "metadata": {
  "kernelspec": {
   "display_name": "Python 3",
   "language": "python",
   "name": "python3"
  },
  "language_info": {
   "codemirror_mode": {
    "name": "ipython",
    "version": 3
   },
   "file_extension": ".py",
   "mimetype": "text/x-python",
   "name": "python",
   "nbconvert_exporter": "python",
   "pygments_lexer": "ipython3",
   "version": "3.6.10"
  }
 },
 "nbformat": 4,
 "nbformat_minor": 4
}
