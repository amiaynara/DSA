{
 "cells": [
  {
   "cell_type": "code",
   "execution_count": 1,
   "metadata": {},
   "outputs": [],
   "source": [
    "# BST for carrying out traversals"
   ]
  },
  {
   "cell_type": "code",
   "execution_count": 2,
   "metadata": {},
   "outputs": [],
   "source": [
    "class Node():\n",
    "    def __init__(self,data,left=None,right=None):\n",
    "        self.data=data\n",
    "        self.right=right\n",
    "        self.left=left\n",
    "    # you can all the getters and setters you want\n",
    "    # you get the idea."
   ]
  },
  {
   "cell_type": "code",
   "execution_count": null,
   "metadata": {},
   "outputs": [],
   "source": [
    " "
   ]
  },
  {
   "cell_type": "code",
   "execution_count": 147,
   "metadata": {},
   "outputs": [],
   "source": [
    "class bst():\n",
    "    root=None\n",
    "    def __init__(self):\n",
    "        self.size=0\n",
    "        self.q=[] # append() and pop(0)\n",
    "    def add_data(self,curr,new_node):\n",
    "        \n",
    "        if new_node.data <= curr.data :\n",
    "            if curr.left == None :\n",
    "                curr.left=new_node\n",
    "                return\n",
    "            else:\n",
    "                self.add_data(curr.left,new_node)\n",
    "        if new_node.data > curr.data :\n",
    "            if curr.right == None :\n",
    "                curr.right=new_node\n",
    "                return # job done \n",
    "            else: # we could have omitted the else\n",
    "                self.add_data(curr.right,new_node)\n",
    "                \n",
    "                \n",
    "    def add(self,data):\n",
    "        new_node=Node(data)\n",
    "        self.size+=1\n",
    "        if self.root==None:\n",
    "            # this is the first node to be added\n",
    "            self.root=new_node\n",
    "            return\n",
    "        starter=self.root\n",
    "        self.add_data(starter,new_node)\n",
    "    # to show the data we have to carry out some traversal\n",
    "    # Level-order traversal => breadth first search\n",
    "    def traversal(self,present):\n",
    "        if present==None:\n",
    "            return\n",
    "        # Do not 'abuse' None. Here the above condition is not required\n",
    "        # for leaves left and right both are None, hence the function\n",
    "        # will return 'None' by default.\n",
    "        # This will be caught by the above condition and return again to \n",
    "        # the previous function in the call stack\n",
    "        \n",
    "\n",
    "        if present.left != None :\n",
    "            self.q.append(present.left)\n",
    "            print(present.left.data)\n",
    "        if present.right!=None:\n",
    "            self.q.append(present.right)\n",
    "            print(present.right.data)\n",
    "        if len(self.q): # cannot pop() an empty list else\n",
    "            self.traversal(self.q.pop(0))\n",
    "        \n",
    "    def bft(self):\n",
    "        starter=self.root\n",
    "        self.q.append(self.root)\n",
    "        print(starter.data)\n",
    "        self.traversal(self.q.pop(0))\n",
    "        \n",
    "    # depth first search ->\n",
    "#         1. inorder\n",
    "#         2. preorder\n",
    "#         3. postorder\n",
    "    def dft(self):\n",
    "        starter=self.root\n",
    "        print('Going for In-order')\n",
    "        self.inorder(starter)\n",
    "        print('Now going for post-order')\n",
    "        self.postorder(starter)\n",
    "        print('Now going for preorder')\n",
    "        self.preorder(starter)\n",
    "        \n",
    "    def inorder(self, curr):\n",
    "        # inorder in a bst gives you sorted list\n",
    "        if curr==None:\n",
    "            return\n",
    "        self.inorder(curr.left)\n",
    "        print(curr.data)\n",
    "        self.inorder(curr.right)\n",
    "    \n",
    "    def postorder(self, curr):\n",
    "        if curr==None:\n",
    "            return\n",
    "        self.postorder(curr.left)\n",
    "        self.postorder(curr.right)\n",
    "        print(curr.data)\n",
    "    \n",
    "    def preorder(self, curr):\n",
    "        if curr==None:\n",
    "            return\n",
    "        print(curr.data)\n",
    "        self.preorder(curr.left)\n",
    "        self.preorder(curr.right)\n",
    "# All traversals are O(n), both dfs and bfs\n",
    "# dfs requires lesser memory \n",
    "# you can see the creation of queue in level order traversal\n",
    "\n",
    "    def evaluator(self):\n",
    "        starter=self.root\n",
    "        self.q.append(starter)\n",
    "        validity=self.validate_bst(self.q.pop())\n",
    "        if validity:\n",
    "            print('Valid BST')\n",
    "        else:\n",
    "            print('Not valid BST')\n",
    "    def validate_bst(self,curr):\n",
    "        if curr==None:\n",
    "            return True # A leaf node is always correct\n",
    "        verdict1=True\n",
    "        verdict2=True\n",
    "        verdict=True\n",
    "        if curr.left!= None:\n",
    "            self.q.append(curr.left)\n",
    "            if curr.data >= curr.left.data:\n",
    "                verdict1=True\n",
    "            else:\n",
    "                verdict1=False\n",
    "        if curr.right!=None:\n",
    "            self.q.append(curr.right)\n",
    "            if curr.data < curr.right.data:\n",
    "                verdict2=True\n",
    "            else:\n",
    "                verdit2=False\n",
    "        if len(self.q):\n",
    "            verdict= self.validate_bst(self.q.pop(0)) # dequeue from the front\n",
    "\n",
    "        return verdict1 and verdict2 and verdict\n",
    "# each node will have three criterion to meet \n",
    "# parent >= left\n",
    "# parent < right\n",
    "# and this should be true for all \n",
    "# verdict1 for left\n",
    "# verdict2 for right child\n",
    "# verdict for the whole correspoding subtree, where curr is the \n",
    "# root of the subtree under consideration"
   ]
  },
  {
   "cell_type": "code",
   "execution_count": 148,
   "metadata": {},
   "outputs": [],
   "source": [
    "b=bst()"
   ]
  },
  {
   "cell_type": "code",
   "execution_count": 149,
   "metadata": {},
   "outputs": [],
   "source": [
    "b.add(9)\n",
    "b.add(6)\n",
    "b.add(15)\n",
    "b.add(3)\n",
    "b.add(8)\n",
    "b.add(13)\n",
    "b.add(17)\n"
   ]
  },
  {
   "cell_type": "code",
   "execution_count": 150,
   "metadata": {},
   "outputs": [
    {
     "name": "stdout",
     "output_type": "stream",
     "text": [
      "9\n",
      "6\n",
      "15\n",
      "3\n",
      "8\n",
      "13\n",
      "17\n"
     ]
    }
   ],
   "source": [
    "b.bft()"
   ]
  },
  {
   "cell_type": "code",
   "execution_count": 151,
   "metadata": {},
   "outputs": [
    {
     "name": "stdout",
     "output_type": "stream",
     "text": [
      "Going for In-order\n",
      "3\n",
      "6\n",
      "8\n",
      "9\n",
      "13\n",
      "15\n",
      "17\n",
      "Now going for post-order\n",
      "3\n",
      "8\n",
      "6\n",
      "13\n",
      "17\n",
      "15\n",
      "9\n",
      "Now going for preorder\n",
      "9\n",
      "6\n",
      "3\n",
      "8\n",
      "15\n",
      "13\n",
      "17\n"
     ]
    }
   ],
   "source": [
    "b.dft()"
   ]
  },
  {
   "cell_type": "code",
   "execution_count": 152,
   "metadata": {},
   "outputs": [
    {
     "name": "stdout",
     "output_type": "stream",
     "text": [
      "Valid BST\n"
     ]
    }
   ],
   "source": [
    "b.evaluator()"
   ]
  },
  {
   "cell_type": "code",
   "execution_count": 131,
   "metadata": {},
   "outputs": [],
   "source": [
    "# Advantages of DFS:\n",
    "#     1. Used to search when we know element is at the bottom\n",
    "#     2. Uses lesser memory\n",
    "#     3. It can tell does a path exist between two nodes\n",
    "# However, this can get slow. when graph gets deeper"
   ]
  },
  {
   "cell_type": "code",
   "execution_count": null,
   "metadata": {},
   "outputs": [],
   "source": [
    "# bfs helps us find near the root( the word says it : near the breadth)\n",
    "# gets memory extensive\n",
    "# FINDS THE SHORTEST PATH BETWEEN TWO NODES. "
   ]
  },
  {
   "cell_type": "code",
   "execution_count": null,
   "metadata": {},
   "outputs": [],
   "source": [
    "# Level order and queue.\n",
    "# whenever we feel the need to return to a value that we have \n",
    "# encountered once, we might want to store them in a queue. \n"
   ]
  },
  {
   "cell_type": "code",
   "execution_count": 124,
   "metadata": {},
   "outputs": [],
   "source": [
    "# VALIDATE A BST"
   ]
  },
  {
   "cell_type": "code",
   "execution_count": 153,
   "metadata": {},
   "outputs": [],
   "source": [
    "# Algorithms for weighted graphs"
   ]
  },
  {
   "cell_type": "code",
   "execution_count": null,
   "metadata": {},
   "outputs": [],
   "source": [
    "# Dijkstra - for shortest path and non-negative weights\n",
    "# Bellman - for all types(-ve weights as well). \n",
    "# Bfs - just for shortest path in unweighted graph. "
   ]
  },
  {
   "cell_type": "code",
   "execution_count": null,
   "metadata": {},
   "outputs": [],
   "source": []
  },
  {
   "cell_type": "code",
   "execution_count": null,
   "metadata": {},
   "outputs": [],
   "source": []
  },
  {
   "cell_type": "code",
   "execution_count": null,
   "metadata": {},
   "outputs": [],
   "source": []
  },
  {
   "cell_type": "code",
   "execution_count": null,
   "metadata": {},
   "outputs": [],
   "source": []
  },
  {
   "cell_type": "code",
   "execution_count": null,
   "metadata": {},
   "outputs": [],
   "source": []
  }
 ],
 "metadata": {
  "kernelspec": {
   "display_name": "Python 3",
   "language": "python",
   "name": "python3"
  },
  "language_info": {
   "codemirror_mode": {
    "name": "ipython",
    "version": 3
   },
   "file_extension": ".py",
   "mimetype": "text/x-python",
   "name": "python",
   "nbconvert_exporter": "python",
   "pygments_lexer": "ipython3",
   "version": "3.6.10"
  }
 },
 "nbformat": 4,
 "nbformat_minor": 4
}
