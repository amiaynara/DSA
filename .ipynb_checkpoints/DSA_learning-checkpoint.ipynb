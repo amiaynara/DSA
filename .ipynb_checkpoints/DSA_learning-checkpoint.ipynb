{
 "cells": [
  {
   "cell_type": "code",
   "execution_count": 1,
   "metadata": {},
   "outputs": [],
   "source": [
    "# DSA Learning # CodeChef #"
   ]
  },
  {
   "cell_type": "code",
   "execution_count": 9,
   "metadata": {},
   "outputs": [
    {
     "name": "stdout",
     "output_type": "stream",
     "text": [
      "2\n",
      "sumit\n",
      "NO\n",
      "gaga\n",
      "YES\n"
     ]
    }
   ],
   "source": [
    "# Q3. Lapindrome.\n",
    "t=int(input())\n",
    "for _ in range(t):\n",
    "    S=input()\n",
    "    n=len(S)\n",
    "    S=[str(c) for c in S]\n",
    "    if n%2==0 :\n",
    "        mid=int(n/2)\n",
    "        left=S[:mid]\n",
    "        right=S[mid:]\n",
    "    else:\n",
    "        mid=int(n/2)\n",
    "        left=S[:mid]\n",
    "        right=S[mid+1:]\n",
    "    left.sort()\n",
    "    right.sort()\n",
    "    if left==right :\n",
    "        print('YES')\n",
    "    else:\n",
    "        print('NO')"
   ]
  },
  {
   "cell_type": "code",
   "execution_count": 5,
   "metadata": {},
   "outputs": [
    {
     "data": {
      "text/plain": [
       "True"
      ]
     },
     "execution_count": 5,
     "metadata": {},
     "output_type": "execute_result"
    }
   ],
   "source": [
    "['1',2,3]== ['1',2,3]"
   ]
  },
  {
   "cell_type": "code",
   "execution_count": null,
   "metadata": {},
   "outputs": [],
   "source": []
  },
  {
   "cell_type": "code",
   "execution_count": 12,
   "metadata": {},
   "outputs": [
    {
     "name": "stdout",
     "output_type": "stream",
     "text": [
      "1\n",
      "4\n",
      "30\n",
      "20\n",
      "53\n",
      "14\n",
      "60\n"
     ]
    }
   ],
   "source": [
    "# Q4. Smart Phone\n",
    "\n",
    "N=int(input())\n",
    "B=[]\n",
    "for k in range(N):\n",
    "    B.append(int(input()))\n",
    "B.sort()\n",
    "rev=B[0]*N\n",
    "for i in range(N):\n",
    "    new_rev=B[i]*(N-i)\n",
    "    if new_rev > rev :\n",
    "        rev=new_rev\n",
    "print(rev)"
   ]
  },
  {
   "cell_type": "code",
   "execution_count": 13,
   "metadata": {},
   "outputs": [
    {
     "name": "stdout",
     "output_type": "stream",
     "text": [
      "4\n",
      "30\n",
      "20\n",
      "53\n",
      "14\n",
      "60\n"
     ]
    }
   ],
   "source": [
    "# Q4. Compact\n",
    "N=int(input())\n",
    "B=[]\n",
    "for k in range(N):\n",
    "    B.append(int(input()))\n",
    "B.sort()\n",
    "print(max([B[i]*(N-i) for i in range(N)]))\n",
    "\n",
    "# The idea is that , if I go for ith customer's budget as the cost\n",
    "# of my app, all the customers having a budget higher than that \n",
    "# will buy my app. \n",
    "# And the revenue will be b[i]*no_of_customrs_with_higher_budget\n",
    "# Naive : Choose each budget and go out to count the number\n",
    "# => O(n^2)\n",
    "# After you have understood the above fact that .... 'to find the customers greater than a particular b[i]'...\n",
    "# it comes only natural that we sort the array of bi's ascending.\n",
    "# if we choose b[i] then, rev=b[i]*(N-i) ## O(nlogn)\n",
    "# Now just pick the maximum => O(n)"
   ]
  },
  {
   "cell_type": "code",
   "execution_count": null,
   "metadata": {},
   "outputs": [],
   "source": []
  },
  {
   "cell_type": "code",
   "execution_count": 14,
   "metadata": {},
   "outputs": [],
   "source": [
    "# Q5. Caravans"
   ]
  },
  {
   "cell_type": "code",
   "execution_count": 18,
   "metadata": {},
   "outputs": [
    {
     "name": "stdout",
     "output_type": "stream",
     "text": [
      "2\n",
      "3\n",
      "8 3 6\n",
      "2\n",
      "1\n",
      "10\n",
      "1\n"
     ]
    }
   ],
   "source": [
    "t=int(input())\n",
    "for _ in range(t):\n",
    "    N=int(input())\n",
    "    V=[int(x) for x in input().split()]\n",
    "    count=1\n",
    "    for i in range(1,N): \n",
    "        if V[i] > V[i-1] : # ith car moving at slower speed\n",
    "            V[i]=V[i-1]\n",
    "            pass\n",
    "        else:\n",
    "            count+=1\n",
    "    print(count)"
   ]
  },
  {
   "cell_type": "code",
   "execution_count": null,
   "metadata": {},
   "outputs": [],
   "source": []
  },
  {
   "cell_type": "code",
   "execution_count": 19,
   "metadata": {},
   "outputs": [],
   "source": [
    "# Q6. Factorials"
   ]
  },
  {
   "cell_type": "code",
   "execution_count": 64,
   "metadata": {},
   "outputs": [
    {
     "data": {
      "text/plain": [
       "9425947759838359420851623124482936749562312794702543768327889353416977599316221476503087861591808346911623490003549599583369706302603264000000000000000000000000"
      ]
     },
     "execution_count": 64,
     "metadata": {},
     "output_type": "execute_result"
    }
   ],
   "source": [
    "def fact(n):\n",
    "    res=1\n",
    "    for i in range(1,1+n):\n",
    "        res=i*res\n",
    "    return res\n",
    "fact(101)"
   ]
  },
  {
   "cell_type": "code",
   "execution_count": 65,
   "metadata": {},
   "outputs": [
    {
     "data": {
      "text/plain": [
       "24"
      ]
     },
     "execution_count": 65,
     "metadata": {},
     "output_type": "execute_result"
    }
   ],
   "source": [
    "x='000000000000000000000000'\n",
    "len(x)"
   ]
  },
  {
   "cell_type": "code",
   "execution_count": 48,
   "metadata": {},
   "outputs": [
    {
     "data": {
      "text/plain": [
       "20"
      ]
     },
     "execution_count": 48,
     "metadata": {},
     "output_type": "execute_result"
    }
   ],
   "source": [
    "y=list(range(0,101,5))[1:]\n",
    "len(y)"
   ]
  },
  {
   "cell_type": "code",
   "execution_count": 59,
   "metadata": {},
   "outputs": [
    {
     "name": "stdout",
     "output_type": "stream",
     "text": [
      "1\n",
      "10001\n",
      "2499\n"
     ]
    }
   ],
   "source": [
    "t=int(input())\n",
    "for _ in range(t):\n",
    "    N=int(input())\n",
    "    divisor=5\n",
    "    zero_count=0\n",
    "    while N/divisor>0:\n",
    "        zero_count+=int(N/divisor)\n",
    "        divisor=divisor*5\n",
    "    print(zero_count)\n"
   ]
  },
  {
   "cell_type": "code",
   "execution_count": null,
   "metadata": {},
   "outputs": [],
   "source": []
  },
  {
   "cell_type": "code",
   "execution_count": 66,
   "metadata": {},
   "outputs": [],
   "source": [
    "# Q7. Coin Flip"
   ]
  },
  {
   "cell_type": "code",
   "execution_count": 74,
   "metadata": {},
   "outputs": [
    {
     "name": "stdout",
     "output_type": "stream",
     "text": [
      "1\n",
      "2\n",
      "1 5 1\n",
      "2\n",
      "1 5 2\n",
      "3\n"
     ]
    }
   ],
   "source": [
    "# cook your dish here\n",
    "t=int(input())\n",
    "for _ in range(t):\n",
    "    G=int(input())\n",
    "    for _ in range(G):\n",
    "        I,N,Q=[int(x) for x in input().split()]\n",
    "        no_i=int(N/2) # retain the side\n",
    "        no_i_inverse=N-no_i\n",
    "        if Q==I :\n",
    "            print(no_i)\n",
    "        else:\n",
    "            print(no_i_inverse)"
   ]
  },
  {
   "cell_type": "code",
   "execution_count": null,
   "metadata": {},
   "outputs": [],
   "source": []
  },
  {
   "cell_type": "code",
   "execution_count": 75,
   "metadata": {},
   "outputs": [],
   "source": [
    "# Q9. Multiple of 3"
   ]
  },
  {
   "cell_type": "code",
   "execution_count": null,
   "metadata": {},
   "outputs": [
    {
     "name": "stdout",
     "output_type": "stream",
     "text": [
      "1\n",
      "760399384224 5 1\n"
     ]
    }
   ],
   "source": [
    "t=int(input())\n",
    "for _ in range(t):\n",
    "    k,d0,d1=[int(x) for x in input().split()]\n",
    "    mod=10\n",
    "    s1=(d0+d1)\n",
    "    d=s1\n",
    "    #print(d)\n",
    "    # next k-1 digits are :\n",
    "    for i in range(k-2):\n",
    "        d+=(2*d)%10\n",
    "        #print(d)\n",
    "    if d%3 ==0 :\n",
    "        print(\"YES\")\n",
    "    else:\n",
    "        print(\"NO\")"
   ]
  },
  {
   "cell_type": "code",
   "execution_count": null,
   "metadata": {},
   "outputs": [],
   "source": []
  },
  {
   "cell_type": "code",
   "execution_count": null,
   "metadata": {},
   "outputs": [],
   "source": []
  },
  {
   "cell_type": "code",
   "execution_count": null,
   "metadata": {},
   "outputs": [],
   "source": []
  }
 ],
 "metadata": {
  "kernelspec": {
   "display_name": "Python 3",
   "language": "python",
   "name": "python3"
  },
  "language_info": {
   "codemirror_mode": {
    "name": "ipython",
    "version": 3
   },
   "file_extension": ".py",
   "mimetype": "text/x-python",
   "name": "python",
   "nbconvert_exporter": "python",
   "pygments_lexer": "ipython3",
   "version": "3.6.10"
  }
 },
 "nbformat": 4,
 "nbformat_minor": 4
}
