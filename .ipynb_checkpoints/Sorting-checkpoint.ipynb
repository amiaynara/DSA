{
 "cells": [
  {
   "cell_type": "code",
   "execution_count": 1,
   "metadata": {},
   "outputs": [],
   "source": [
    "# bubble sort\n",
    "# bubble the smallest or the largest"
   ]
  },
  {
   "cell_type": "code",
   "execution_count": 87,
   "metadata": {},
   "outputs": [
    {
     "name": "stdout",
     "output_type": "stream",
     "text": [
      "[1, 6, 1, 66, 3, 32, 21, 33, 1]\n",
      "[1, 1, 6, 3, 32, 21, 33, 1, 66]\n",
      "[1, 1, 6, 3, 32, 21, 33, 1]\n",
      "[1, 1, 3, 6, 21, 32, 1, 33]\n",
      "[1, 1, 3, 6, 21, 32, 1]\n",
      "[1, 1, 3, 6, 21, 1, 32]\n",
      "[1, 1, 3, 6, 21, 1]\n",
      "[1, 1, 3, 6, 1, 21]\n",
      "[1, 1, 3, 6, 1]\n",
      "[1, 1, 3, 1, 6]\n",
      "[1, 1, 3, 1]\n",
      "[1, 1, 1, 3]\n",
      "[1, 1, 1]\n",
      "[1, 1, 1]\n",
      "[1, 1]\n",
      "[1, 1]\n",
      "[1]\n",
      "[1, 1, 6, 3, 32, 21, 33, 1, 66]\n"
     ]
    }
   ],
   "source": [
    "\n",
    "def bubble_sort_recur(a):\n",
    "    print(a)\n",
    "    if len(a)==1:\n",
    "        return\n",
    "    for i in range(len(a)-1):\n",
    "        if a[i] > a[i+1] :\n",
    "            a[i]=a[i]^a[i+1]\n",
    "            a[i+1]=a[i]^a[i+1]\n",
    "            a[i]=a[i]^a[i+1]\n",
    "    print(a)\n",
    "    bubble_sort_recur(a[:-1]) # here we don't have to return \n",
    "                        # we mutilate the actual array\n",
    "# Also note that we are exploiting the fact that, actual array \n",
    "# can affected when passed through a function \n",
    "# hence return is missing, in that case we would have to pass the \n",
    "# length up to which the 'bubbling' is supposed to be performed\n",
    "# along with the array\n",
    "b=[1,6,1,66,3,32,21,33,1]\n",
    "bubble_sort_recur(b)\n",
    "print(b)"
   ]
  },
  {
   "cell_type": "code",
   "execution_count": 78,
   "metadata": {},
   "outputs": [],
   "source": [
    "# Bubble sort Iterative"
   ]
  },
  {
   "cell_type": "code",
   "execution_count": 79,
   "metadata": {},
   "outputs": [],
   "source": [
    "def bubble_sort(a):\n",
    "    print('bubble sort called')\n",
    "    for j in range(len(a)):\n",
    "        for i in range(len(a)-j-1):\n",
    "            if a[i] > a[i+1]:\n",
    "                # swap the values\n",
    "                a[i]=a[i]^a[i+1]\n",
    "                a[i+1]=a[i]^a[i+1]\n",
    "                a[i]=a[i]^a[i+1]\n",
    "\n",
    "                "
   ]
  },
  {
   "cell_type": "code",
   "execution_count": 80,
   "metadata": {},
   "outputs": [
    {
     "name": "stdout",
     "output_type": "stream",
     "text": [
      "bubble sort called\n",
      "[1, 1, 3, 6, 21, 32, 32, 66]\n"
     ]
    }
   ],
   "source": [
    "\n",
    "a=[1,66,6,3,32,21,32,1]\n",
    "bubble_sort(a)\n",
    "print(a)"
   ]
  },
  {
   "cell_type": "code",
   "execution_count": 88,
   "metadata": {},
   "outputs": [],
   "source": [
    "# Selection sort\n",
    "# find the minimum/max and then swap"
   ]
  },
  {
   "cell_type": "code",
   "execution_count": 100,
   "metadata": {},
   "outputs": [
    {
     "name": "stdout",
     "output_type": "stream",
     "text": [
      "[1, 1, 3, 6, 21, 32, 32, 66]\n"
     ]
    }
   ],
   "source": [
    "def selection_sort(a):\n",
    "    if len(a) > 0 :\n",
    "        \n",
    "  \n",
    "        for i in range(len(a)):\n",
    "            minm=a[i]\n",
    "            min_index=i\n",
    "            for j in range(i,len(a)):\n",
    "                if a[j]< minm :\n",
    "                    minm=a[j]\n",
    "                    min_index=j\n",
    "                #print(a)\n",
    "            a[min_index] , a[i] = a[i], a[min_index]\n",
    "            #print(a) # uncomment to see the working of selection sort\n",
    "a=[1,66,6,3,32,21,32,1]\n",
    "selection_sort(a)\n",
    "print(a)"
   ]
  },
  {
   "cell_type": "code",
   "execution_count": null,
   "metadata": {},
   "outputs": [],
   "source": []
  },
  {
   "cell_type": "code",
   "execution_count": 101,
   "metadata": {},
   "outputs": [
    {
     "ename": "NameError",
     "evalue": "name 'x' is not defined",
     "output_type": "error",
     "traceback": [
      "\u001b[0;31m---------------------------------------------------------------------------\u001b[0m",
      "\u001b[0;31mNameError\u001b[0m                                 Traceback (most recent call last)",
      "\u001b[0;32m<ipython-input-101-3f0aac6c9a13>\u001b[0m in \u001b[0;36m<module>\u001b[0;34m\u001b[0m\n\u001b[0;32m----> 1\u001b[0;31m \u001b[0;32mwhile\u001b[0m \u001b[0mx\u001b[0m\u001b[0;34m!=\u001b[0m\u001b[0;36m42\u001b[0m\u001b[0;34m:\u001b[0m\u001b[0;34m\u001b[0m\u001b[0;34m\u001b[0m\u001b[0m\n\u001b[0m\u001b[1;32m      2\u001b[0m     \u001b[0mx\u001b[0m\u001b[0;34m=\u001b[0m\u001b[0mint\u001b[0m\u001b[0;34m(\u001b[0m\u001b[0minput\u001b[0m\u001b[0;34m(\u001b[0m\u001b[0;34m)\u001b[0m\u001b[0;34m)\u001b[0m\u001b[0;34m\u001b[0m\u001b[0;34m\u001b[0m\u001b[0m\n",
      "\u001b[0;31mNameError\u001b[0m: name 'x' is not defined"
     ]
    }
   ],
   "source": [
    "while x!=42:\n",
    "    x=int(input())"
   ]
  },
  {
   "cell_type": "code",
   "execution_count": null,
   "metadata": {},
   "outputs": [],
   "source": [
    "t=int(input())\n",
    "for _ in range(t):\n",
    "    N=int(input())\n",
    "    S=input()\n",
    "    print(int())"
   ]
  }
 ],
 "metadata": {
  "kernelspec": {
   "display_name": "Python 3",
   "language": "python",
   "name": "python3"
  },
  "language_info": {
   "codemirror_mode": {
    "name": "ipython",
    "version": 3
   },
   "file_extension": ".py",
   "mimetype": "text/x-python",
   "name": "python",
   "nbconvert_exporter": "python",
   "pygments_lexer": "ipython3",
   "version": "3.6.10"
  }
 },
 "nbformat": 4,
 "nbformat_minor": 4
}
