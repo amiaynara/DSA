{
 "cells": [
  {
   "cell_type": "code",
   "execution_count": 2,
   "metadata": {},
   "outputs": [],
   "source": [
    "# graphs = G(V,E)\n",
    "# types of graphs : divided on various bases:\n",
    "    # Acyclic or Cyclic\n",
    "    # Directed or Undirected\n",
    "    # Weighted or Unweighted\n",
    "    # Connected or Disconnected"
   ]
  },
  {
   "cell_type": "code",
   "execution_count": 3,
   "metadata": {},
   "outputs": [],
   "source": [
    "# Note one thing=> if a graph is connected=> We can uniquely determine the graph using the edges only. \n",
    "# However, if Disconnected we need both the set of edges and the set of verticies to uniquely determine\n",
    "# the graph."
   ]
  },
  {
   "cell_type": "code",
   "execution_count": 5,
   "metadata": {},
   "outputs": [],
   "source": [
    "# for the connected graph\n",
    "graph=[[2,3],[3,4],[1,2],[0,1],[1,3],[1,4]]\n",
    "# below is for any graph\n",
    "graph_2=[[1,2,3,4],[3,4],[0,3]] # Note the index of the list is index we are counting at. \n",
    "graph_3={0:[1,3,4], 1:[2,4,3], 2:[1,3,0]} \n",
    "# Above two are adjacency list way of representing the graph\n",
    "# Below is Adjacency Mtrix\n",
    "# a matrix |V|*|V| , a cell is one if the connection exists else it is 0.\n",
    "# Instead of '1', we could add the weight for a weighted graph. "
   ]
  },
  {
   "cell_type": "code",
   "execution_count": 57,
   "metadata": {},
   "outputs": [],
   "source": [
    "\n",
    "class graph():\n",
    "    def __init__(self):\n",
    "        self.number_of_nodes=0\n",
    "        self.root=None\n",
    "        self.node_list=set()\n",
    "        self.edge_list=set()\n",
    "        self.adjacency_list={}\n",
    "        self.adjacency_matrix={}\n",
    "    def add_vertex(self,node): # add a node as a vertex\n",
    "        if self.number_of_nodes==0:\n",
    "            self.root=node\n",
    "        self.node_list.add(node)\n",
    "        \n",
    "    def add_edge(self,node1,node2):\n",
    "        if node1 == node2 :\n",
    "            print('cannot have self edge') # in case of classes=> node1.value == node2.value\n",
    "            return \n",
    "        if node1 not in self.node_list or node2 not in self.node_list :\n",
    "            print(\"One of the nodes is not legal\")\n",
    "            return \n",
    "        edge_tuple=(node1, node2) if node1<node2 else (node2,node1)\n",
    "        self.edge_list.add(edge_tuple)\n",
    "        self.adjacency_list[node1]=node2\n",
    "        self.adjacency_list[node2]=node1 # \n",
    "        self.adjacency_matrix[(node1,node2)]=1\n",
    "        self.adjacency_matrix[(node2,node1)]=1 # we could have added the weights as well. \n",
    "    def show_connections(self):\n",
    "        # we could use adjaceny list also but I am going with edges set\n",
    "        # more obvious approach\n",
    "        for edge in self.adjacency_matrix:\n",
    "            if edge[0] > edge[1]:\n",
    "                pass\n",
    "            else:\n",
    "                print(f'{edge[0]} ------ {edge[1]}')\n",
    "    def show_nodes(self):\n",
    "        print(self.node_list)"
   ]
  },
  {
   "cell_type": "code",
   "execution_count": null,
   "metadata": {},
   "outputs": [],
   "source": []
  },
  {
   "cell_type": "code",
   "execution_count": 58,
   "metadata": {},
   "outputs": [],
   "source": [
    "g=graph()"
   ]
  },
  {
   "cell_type": "code",
   "execution_count": 59,
   "metadata": {},
   "outputs": [],
   "source": [
    "g.add_vertex(33)\n",
    "g.add_vertex(36)\n",
    "g.add_vertex(31)\n",
    "g.add_vertex(32)\n",
    "g.add_vertex(34)"
   ]
  },
  {
   "cell_type": "code",
   "execution_count": 60,
   "metadata": {},
   "outputs": [],
   "source": [
    "g.add_edge(33,36)\n",
    "g.add_edge(31,34)\n",
    "g.add_edge(34,32)\n",
    "g.add_edge(33,32)"
   ]
  },
  {
   "cell_type": "code",
   "execution_count": 61,
   "metadata": {},
   "outputs": [
    {
     "name": "stdout",
     "output_type": "stream",
     "text": [
      "{32, 33, 34, 36, 31}\n"
     ]
    }
   ],
   "source": [
    "g.show_nodes()"
   ]
  },
  {
   "cell_type": "code",
   "execution_count": 63,
   "metadata": {},
   "outputs": [
    {
     "name": "stdout",
     "output_type": "stream",
     "text": [
      "33 ------ 36\n",
      "31 ------ 34\n",
      "32 ------ 34\n",
      "32 ------ 33\n"
     ]
    }
   ],
   "source": [
    "g.show_connections()"
   ]
  },
  {
   "cell_type": "code",
   "execution_count": 101,
   "metadata": {},
   "outputs": [],
   "source": [
    "# Another implementation\n",
    "\n",
    "class graph():\n",
    "    def __init__(self):\n",
    "        self.number_of_nodes=0\n",
    "        self.root=None\n",
    "        self.adjacency_list={}\n",
    "\n",
    "    def add_vertex(self,node): # add a node as a vertex\n",
    "        if self.number_of_nodes==0:\n",
    "            self.root=node\n",
    "        self.adjacency_list[node]=[]\n",
    "        self.number_of_nodes+=1\n",
    "        \n",
    "    def add_edge(self,node1,node2):\n",
    "        # assuming user is in 'sane' mood\n",
    "        # here we could also make the edge appear smaller, larger\n",
    "        edge_tuple= (node1,node2) if node1 < node2 else (node2, node1)\n",
    "        self.adjacency_list[edge_tuple[0]].append(edge_tuple[1])\n",
    "        #self.adjacency_list[node2].append(node1) # this can be removed to avoid reverse appending\n",
    "\n",
    "        \n",
    "    def show_connections(self):\n",
    "        # we could use adjaceny list also but I am going with edges set\n",
    "        # more obvious approach\n",
    "        for node in self.adjacency_list.keys():\n",
    "            for v in self.adjacency_list[node]:\n",
    "                print(f'{node} ------ {v}')\n",
    "            \n",
    "    def show_nodes(self):\n",
    "        print(self.node_list)"
   ]
  },
  {
   "cell_type": "code",
   "execution_count": 102,
   "metadata": {},
   "outputs": [],
   "source": [
    "g2=graph()"
   ]
  },
  {
   "cell_type": "code",
   "execution_count": 103,
   "metadata": {},
   "outputs": [],
   "source": [
    "g2.add_vertex(34)\n",
    "g2.add_vertex(38)\n",
    "g2.add_vertex(39)\n",
    "g2.add_vertex(31)\n",
    "g2.add_vertex(32)\n",
    "g2.add_vertex(35)\n",
    "# nodes added\n",
    "# adding edges.\n",
    "g2.add_edge(34,38)\n",
    "g2.add_edge(31,32)\n",
    "g2.add_edge(35,39)\n",
    "g2.add_edge(39,32)\n",
    "g2.add_edge(35,38)\n",
    "g2.add_edge(39,31)"
   ]
  },
  {
   "cell_type": "code",
   "execution_count": 104,
   "metadata": {},
   "outputs": [
    {
     "name": "stdout",
     "output_type": "stream",
     "text": [
      "34 ------ 38\n",
      "31 ------ 32\n",
      "31 ------ 39\n",
      "32 ------ 39\n",
      "35 ------ 39\n",
      "35 ------ 38\n"
     ]
    }
   ],
   "source": [
    "g2.show_connections()"
   ]
  },
  {
   "cell_type": "code",
   "execution_count": null,
   "metadata": {},
   "outputs": [],
   "source": []
  },
  {
   "cell_type": "code",
   "execution_count": null,
   "metadata": {},
   "outputs": [],
   "source": []
  },
  {
   "cell_type": "code",
   "execution_count": 105,
   "metadata": {},
   "outputs": [],
   "source": [
    "# https://neo4j.com/ \n",
    "# is good resource that can build graphs"
   ]
  },
  {
   "cell_type": "code",
   "execution_count": 126,
   "metadata": {},
   "outputs": [],
   "source": []
  },
  {
   "cell_type": "code",
   "execution_count": null,
   "metadata": {},
   "outputs": [],
   "source": []
  },
  {
   "cell_type": "code",
   "execution_count": 111,
   "metadata": {},
   "outputs": [
    {
     "name": "stdout",
     "output_type": "stream",
     "text": [
      "5928\n"
     ]
    }
   ],
   "source": [
    "print(x)"
   ]
  },
  {
   "cell_type": "code",
   "execution_count": null,
   "metadata": {},
   "outputs": [],
   "source": []
  },
  {
   "cell_type": "code",
   "execution_count": null,
   "metadata": {},
   "outputs": [],
   "source": []
  }
 ],
 "metadata": {
  "kernelspec": {
   "display_name": "Python 3",
   "language": "python",
   "name": "python3"
  },
  "language_info": {
   "codemirror_mode": {
    "name": "ipython",
    "version": 3
   },
   "file_extension": ".py",
   "mimetype": "text/x-python",
   "name": "python",
   "nbconvert_exporter": "python",
   "pygments_lexer": "ipython3",
   "version": "3.6.10"
  }
 },
 "nbformat": 4,
 "nbformat_minor": 4
}
