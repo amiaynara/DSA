{
 "cells": [
  {
   "cell_type": "code",
   "execution_count": null,
   "metadata": {},
   "outputs": [],
   "source": [
    "# This will be my blog no. 1"
   ]
  },
  {
   "cell_type": "code",
   "execution_count": 1,
   "metadata": {},
   "outputs": [],
   "source": [
    "# Implemenation of Hash Table: Chapter 1, Cracking the Coding Interview"
   ]
  },
  {
   "cell_type": "code",
   "execution_count": 2,
   "metadata": {},
   "outputs": [],
   "source": [
    "# A simple but common implementation can be done using an array of linked lists\n",
    "# Other implementation requires a self-balanced binary search tree. This gives the look up in log(n), this \n",
    "# helps the reduce the space complexity"
   ]
  },
  {
   "cell_type": "code",
   "execution_count": 3,
   "metadata": {},
   "outputs": [],
   "source": [
    "# Implementation of a linked list"
   ]
  },
  {
   "cell_type": "code",
   "execution_count": 7,
   "metadata": {},
   "outputs": [],
   "source": [
    "# A node class\n",
    "class node():\n",
    "    def __init__(self, key=None, value=None, next_node=None):\n",
    "        self.key = key\n",
    "        self.value = value\n",
    "        self.next_node = next_node\n",
    "        \n",
    "    def set_next(self, next_node):\n",
    "        self.next_node = next_node\n",
    "    def __str__(self):\n",
    "        return f'{self.key, self.value}'"
   ]
  },
  {
   "cell_type": "code",
   "execution_count": 8,
   "metadata": {},
   "outputs": [
    {
     "name": "stdout",
     "output_type": "stream",
     "text": [
      "('amiay', '99')\n"
     ]
    }
   ],
   "source": [
    "new_node = node('amiay', '99')\n",
    "print(new_node)"
   ]
  },
  {
   "cell_type": "code",
   "execution_count": null,
   "metadata": {},
   "outputs": [],
   "source": []
  },
  {
   "cell_type": "code",
   "execution_count": 27,
   "metadata": {},
   "outputs": [],
   "source": [
    "# linked list\n",
    "class Linked_list():\n",
    "    \n",
    "    def __init__(self):\n",
    "        self.head = None\n",
    "        self.tail = None\n",
    "        self.size = 0\n",
    "        \n",
    "    def insert(self, key, value):\n",
    "        if not (key and value):\n",
    "            print('Key or value cannot be None Type')\n",
    "            return \n",
    "        new_node = node(key, value)\n",
    "        if self.size == 0:\n",
    "            self.head = new_node\n",
    "            self.tail = new_node\n",
    "            self.size = 1\n",
    "            print(\"First item inserted\")\n",
    "            return \n",
    "        self.head.next_node = new_node\n",
    "        self.head = new_node\n",
    "        self.size += 1\n",
    "        print(\"Item inserted successfully\")\n",
    "        return \n",
    "    def peek(self):\n",
    "        print(self.head)\n",
    "    def delete(self, key):\n",
    "        # will be implemented later\n",
    "        pass\n",
    "    \n",
    "        "
   ]
  },
  {
   "cell_type": "code",
   "execution_count": 102,
   "metadata": {},
   "outputs": [],
   "source": [
    "# Only now implement the hash table\n",
    "class HashTable():\n",
    "    def __init__(self):\n",
    "        self.size = 6\n",
    "        self.ll_array = [Linked_list() for _ in range(self.size)]\n",
    "        print(\"An empty hash table created\")\n",
    "        \n",
    "    def _show_sizes(self):\n",
    "        for l in self.ll_array:\n",
    "            print(l.size)\n",
    "        \n",
    "    def insert(self, key, value):\n",
    "        key_hash = self.hash(key)\n",
    "        index    = key_hash % self.size\n",
    "        print(f'{key} kept at index {index}')\n",
    "        self.insert_on_arr(key, value, index)\n",
    "        #self._show_sizes()\n",
    "        # uncomment to see the working of the linked list\n",
    "        \n",
    "    def insert_on_arr(self, key, value, index):\n",
    "        self.ll_array[index].insert(key, value)\n",
    "        \n",
    "    def look_up(self, key):\n",
    "        # find hash of key\n",
    "        key_hash = self.hash(key)\n",
    "        index = key_hash % self.size\n",
    "        print(f'{key} hashes at index {index}')\n",
    "        ll_size = self.ll_array[index].size\n",
    "        print(ll_size, ' is the size')\n",
    "        if ll_size == 0:\n",
    "            print(f'{key} has not yet been inserted')\n",
    "            return\n",
    "        elif ll_size == 1:\n",
    "            if self.ll_array[index].head.key == key:\n",
    "                print(self.ll_array[index].peek())\n",
    "            \n",
    "                return\n",
    "            else:\n",
    "                print(f\"There was a collision, the hash for '{self.ll_array[index].head.key}' and '{key}' are the same\")\n",
    "                return\n",
    "        else:\n",
    "            traverser = self.ll_array[index].tail\n",
    "            while traverser:\n",
    "                if traverser.key == key:\n",
    "                    print(traverser.value)\n",
    "                    return \n",
    "                traverser = traverser.next_node\n",
    "                \n",
    "            print(f\"There was a collision, the hash for '{self.ll_array[index].head.key}' and '{key}' are the same\")\n",
    "        \n",
    "    \n",
    "    def hash(self, key):\n",
    "        \"\"\"\n",
    "        >>>'amiay'.__hash__()\n",
    "        5169131434226628243\n",
    "        \"\"\"\n",
    "        return key.__hash__()\n",
    "    \n",
    "    "
   ]
  },
  {
   "cell_type": "code",
   "execution_count": 103,
   "metadata": {},
   "outputs": [
    {
     "name": "stdout",
     "output_type": "stream",
     "text": [
      "An empty hash table created\n"
     ]
    }
   ],
   "source": [
    "ht = HashTable()"
   ]
  },
  {
   "cell_type": "code",
   "execution_count": 104,
   "metadata": {},
   "outputs": [
    {
     "name": "stdout",
     "output_type": "stream",
     "text": [
      "amiay kept at index 3\n",
      "First item inserted\n"
     ]
    }
   ],
   "source": [
    "ht.insert('amiay', '9')"
   ]
  },
  {
   "cell_type": "code",
   "execution_count": 105,
   "metadata": {},
   "outputs": [
    {
     "name": "stdout",
     "output_type": "stream",
     "text": [
      "sumit kept at index 3\n",
      "Item inserted successfully\n"
     ]
    }
   ],
   "source": [
    "ht.insert('sumit', '90')"
   ]
  },
  {
   "cell_type": "code",
   "execution_count": 106,
   "metadata": {},
   "outputs": [
    {
     "name": "stdout",
     "output_type": "stream",
     "text": [
      "sumit hashes at index 3\n",
      "2  is the size\n",
      "90\n"
     ]
    }
   ],
   "source": [
    "ht.look_up('sumit')"
   ]
  },
  {
   "cell_type": "code",
   "execution_count": 51,
   "metadata": {},
   "outputs": [
    {
     "name": "stdout",
     "output_type": "stream",
     "text": [
      "('amit', '33')\n"
     ]
    }
   ],
   "source": [
    "l.peek()"
   ]
  },
  {
   "cell_type": "code",
   "execution_count": null,
   "metadata": {},
   "outputs": [],
   "source": []
  }
 ],
 "metadata": {
  "kernelspec": {
   "display_name": "Python 3",
   "language": "python",
   "name": "python3"
  },
  "language_info": {
   "codemirror_mode": {
    "name": "ipython",
    "version": 3
   },
   "file_extension": ".py",
   "mimetype": "text/x-python",
   "name": "python",
   "nbconvert_exporter": "python",
   "pygments_lexer": "ipython3",
   "version": "3.6.10"
  }
 },
 "nbformat": 4,
 "nbformat_minor": 4
}
